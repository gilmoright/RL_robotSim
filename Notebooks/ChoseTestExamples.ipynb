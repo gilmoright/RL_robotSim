{
 "cells": [
  {
   "cell_type": "code",
   "execution_count": 1,
   "metadata": {
    "pycharm": {
     "is_executing": true
    }
   },
   "outputs": [],
   "source": [
    "import sys\n",
    "sys.path.append(\"/s/ls4/users/grartem/RL_robots/\")\n",
    "sys.path.append(\"/s/ls4/users/grartem/RL_robots/RL_robotSim/\")\n",
    "\n",
    "# sys.path.append(\"/home/sheins/rl-test/\")\n",
    "# sys.path.append(\"/home/sheins/rl-test/RL_robotSim\")\n",
    "\n",
    "#sys.path.append(\"/s/ls4/users/slava1195/rl_rob/\")\n",
    "#sys.path.append(\"/s/ls4/users/slava1195/rl_rob/RL_robotSim/\")\n",
    "\n",
    "from IPython.display import clear_output"
   ]
  },
  {
   "cell_type": "code",
   "execution_count": 18,
   "metadata": {},
   "outputs": [
    {
     "name": "stdout",
     "output_type": "stream",
     "text": [
      "1.10.2+cu102\n"
     ]
    },
    {
     "data": {
      "text/plain": [
       "'1.9.2'"
      ]
     },
     "execution_count": 18,
     "metadata": {},
     "output_type": "execute_result"
    }
   ],
   "source": [
    "import torch\n",
    "print(torch.__version__)\n",
    "import ray\n",
    "ray.__version__"
   ]
  },
  {
   "cell_type": "code",
   "execution_count": 2,
   "metadata": {},
   "outputs": [
    {
     "name": "stdout",
     "output_type": "stream",
     "text": [
      "pygame 2.1.2 (SDL 2.0.16, Python 3.8.0)\n",
      "Hello from the pygame community. https://www.pygame.org/contribute.html\n"
     ]
    }
   ],
   "source": [
    "import gym\n",
    "import numpy as np\n",
    "import MyMisc\n",
    "import pygame\n",
    "import pyhocon\n",
    "import matplotlib.pyplot as plt\n",
    "%matplotlib inline\n"
   ]
  },
  {
   "cell_type": "code",
   "execution_count": 3,
   "metadata": {},
   "outputs": [],
   "source": [
    "import os\n",
    "os.environ[\"SDL_VIDEODRIVER\"] = \"dummy\""
   ]
  },
  {
   "cell_type": "code",
   "execution_count": 4,
   "metadata": {},
   "outputs": [
    {
     "name": "stderr",
     "output_type": "stream",
     "text": [
      "/s/ls4/users/grartem/RL_robots/continuous_grid_arctic/src/continuous_grid_arctic/follow_the_leader_continuous_env.py:385: UserWarning: Одновременно заданы и random_frames_per_step и frames_per_step, будет использоваться random_frames_per_step\n",
      "  warn(\n",
      "/s/ls4/users/grartem/anaconda3/envs/rl_robots/lib/python3.8/site-packages/gym/spaces/box.py:73: UserWarning: \u001b[33mWARN: Box bound precision lowered by casting to float32\u001b[0m\n",
      "  logger.warn(\n"
     ]
    }
   ],
   "source": [
    "env = MyMisc.continuous_env_maker(config={\"name\":\"Test-Cont-Env-Auto-v0\",\n",
    "                                          'wrappers': [ 'ContinuousObserveModifier_sensorPrev'], # 'MyFrameStack'\n",
    "                                          'max_prev_obs': 5,\n",
    "                                          \"frames_per_step\":1,\n",
    "                                          \"base_env_config\": {\n",
    "                                              \"add_obstacles\":True,\n",
    "                                              \"max_distance\" : 4,\n",
    "                                              \"add_bear\":True, # add new bear\n",
    "                                              \"game_width\":1500,\n",
    "                                              \"game_height\":1000,\n",
    "                                              \"max_steps\":20000,\n",
    "                                              \"framerate\":5000,\n",
    "                                              \"obstacle_number\":35,\n",
    "                                              \"constant_follower_speed\":False,\n",
    "                                              \"corridor_length\": 10,\n",
    "                                              \"corridor_width\" : 1.5,\n",
    "                                              \"leader_speed_regime\":{\n",
    "                                                 0: [0.2, 1],\n",
    "                                                 200: 1,\n",
    "                                                 1000: [0.5, 1],\n",
    "                                                 1500: 0.75,\n",
    "                                                 2000: 0,\n",
    "                                                 2500: 1,\n",
    "                                                 3000: [0.5, 1],\n",
    "                                                 4000: [0.0, 0.5],\n",
    "                                                 5000: [0.4, 1],\n",
    "                                              },\n",
    "                                              \"follower_speed_koeff\": 0.6,\n",
    "                                              \"negative_speed\": True,\n",
    "                                              \"bear_speed_coeff\": 1.2,\n",
    "                                              \"move_bear_v4\": True,\n",
    "                                              \"multiple_end_points\":False,\n",
    "                                              \"warm_start\":0,\n",
    "                                              \"add_bear\": True,\n",
    "                                              \"bear_number\": 2,\n",
    "                                              \"multi_random_bears\": False,\n",
    "                                              \"bear_behind\": False,\n",
    "                                              \"leader_speed_coeff\": 0.45,\n",
    "                                              #\"early_stopping\":{\"max_distance_coef\": 1.4, \"low_reward\": -300},\n",
    "                                              \"random_frames_per_step\":[2, 20],\n",
    "                                              \"follower_sensors\":{\n",
    "                                                  'LeaderCorridor_Prev_lasers_v2_compas': {\n",
    "                                                      'sensor_class': 'LeaderCorridor_Prev_lasers_v2',\n",
    "                                                      'lasers_count': 12,\n",
    "                                                      'laser_length': 150,\n",
    "                                                      'react_to_green_zone': True,\n",
    "                                                      'react_to_obstacles': True,\n",
    "                                                      'react_to_safe_corridor': True,\n",
    "                                                      'max_prev_obs': 5,\n",
    "                                                      'use_prev_obs': True,\n",
    "                                                      'sensor_name': 'LeaderCorridor_Prev_lasers_v2_compas',\n",
    "                                                      'pad_sectors': True\n",
    "                                                  },\n",
    "                                                  'LaserPrevSensor_compas': {\n",
    "                                                      'sensor_class': 'LeaderCorridor_Prev_lasers_v2',\n",
    "                                                      'lasers_count': 24,\n",
    "                                                      'laser_length': 200,\n",
    "                                                      'react_to_green_zone': False,\n",
    "                                                      'react_to_obstacles': True,\n",
    "                                                      'react_to_safe_corridor': False,\n",
    "                                                      'max_prev_obs': 5,\n",
    "                                                      'use_prev_obs': True,\n",
    "                                                      'pad_sectors': True\n",
    "                                                  },\n",
    "                                                  'LeaderPositionsTracker_v2': {\n",
    "                                                      'sensor_class': 'LeaderPositionsTracker_v2',\n",
    "                                                      'eat_close_points': False,\n",
    "                                                      'generate_corridor': True,\n",
    "                                                      'saving_period': 8,\n",
    "                                                      'sensor_name': 'LeaderPositionsTracker_v2',\n",
    "                                                      'start_corridor_behind_follower': True,\n",
    "                                                      \"corridor_length\": 500,\n",
    "                                                      \"corridor_width\" : 75,\n",
    "                                                  }\n",
    "                                         }\n",
    "                                         }})\n",
    "\n",
    "\n"
   ]
  },
  {
   "cell_type": "code",
   "execution_count": 4,
   "metadata": {},
   "outputs": [
    {
     "name": "stderr",
     "output_type": "stream",
     "text": [
      "/s/ls4/users/grartem/RL_robots/continuous_grid_arctic/src/continuous_grid_arctic/follow_the_leader_continuous_env.py:369: UserWarning: Одновременно заданы и random_frames_per_step и frames_per_step, будет использоваться random_frames_per_step\n",
      "  warn(\n",
      "/s/ls4/users/grartem/anaconda3/envs/rl_robots/lib/python3.8/site-packages/gym/spaces/box.py:73: UserWarning: \u001b[33mWARN: Box bound precision lowered by casting to float32\u001b[0m\n",
      "  logger.warn(\n"
     ]
    }
   ],
   "source": [
    "env = MyMisc.continuous_env_maker(config={\"name\":\"Test-Cont-Env-Auto-v0\",\n",
    "                                          'wrappers': ['ContinuousObserveModifier_sensorPrev'], # 'MyFrameStack'\n",
    "                                          'max_prev_obs': 5,\n",
    "                                          \"base_env_config\": {\n",
    "                                              \"game_width\":1500,\n",
    "                                              \"game_height\":1000,\n",
    "                                              \"pixels_to_meter\": 10,\n",
    "                                              \"step_grid\": 10,\n",
    "                                              \"max_steps\":20000,\n",
    "                                              \"framerate\":5000,\n",
    "                                              \"random_frames_per_step\":[30, 70],\n",
    "                                              \"follower_size\": (1, 1),\n",
    "                                              \"leader_size\": (4, 2),\n",
    "                                              \"bear_size\": (1.5, 1.5),\n",
    "                                              #\"frames_per_step\":1,\n",
    "                                              \"min_distance\" : 5,\n",
    "                                              \"max_distance\" : 8,\n",
    "                                              \"constant_follower_speed\":False,\n",
    "                                              \"leader_max_speed\": 1,\n",
    "                                              \"follower_max_speed\": 2,\n",
    "                                              \"negative_speed\": True,\n",
    "                                              \"bear_max_speed\": 1.2,\n",
    "                                              \"follower_max_rotation_speed\": 28.65,\n",
    "                                              \"leader_max_rotation_speed\": 28.65,\n",
    "                                              \"follower_acceleration\": 0.5,\n",
    "                                              \"leader_acceleration\": 2,\n",
    "                                              \"leader_speed_regime\":{\n",
    "                                                 0: [0.2, 1],\n",
    "                                                 200: 1,\n",
    "                                                 1000: [0.5, 1],\n",
    "                                                 1500: 0.75,\n",
    "                                                 2000: 0,\n",
    "                                                 2500: 1,\n",
    "                                                 3000: [0.5, 1],\n",
    "                                                 4000: [0.0, 0.5],\n",
    "                                                 5000: [0.4, 1],\n",
    "                                              },\n",
    "                                              \"add_obstacles\":True,\n",
    "                                              \"obstacle_number\":20,\n",
    "                                              \"add_bear\":True, # add new bear\n",
    "                                              \"bear_number\": 2,\n",
    "                                              \"bear_behind\": False,\n",
    "                                              \"multi_random_bears\": False,\n",
    "                                              \"move_bear_v4\": True,\n",
    "                                              \"bridge_size\": (140, 50),\n",
    "                                              \"multiple_end_points\":False,\n",
    "                                              \"warm_start\":0,\n",
    "                                              #\"early_stopping\":{\"max_distance_coef\": 1.4, \"low_reward\": -300},\n",
    "                                              \"follower_sensors\":{\n",
    "                                                  'LeaderCorridor_Prev_lasers_v2_compas': {\n",
    "                                                      'sensor_class': 'LeaderCorridor_Prev_lasers_v2',\n",
    "                                                      'lasers_count': 12,\n",
    "                                                      'laser_length': 150,\n",
    "                                                      'react_to_green_zone': True,\n",
    "                                                      'react_to_obstacles': True,\n",
    "                                                      'react_to_safe_corridor': True,\n",
    "                                                      'max_prev_obs': 5,\n",
    "                                                      'use_prev_obs': True,\n",
    "                                                      'sensor_name': 'LeaderCorridor_Prev_lasers_v2_compas',\n",
    "                                                      'pad_sectors': True\n",
    "                                                  },\n",
    "                                                  'LaserPrevSensor_compas': {\n",
    "                                                      'sensor_class': 'LeaderCorridor_Prev_lasers_v2',\n",
    "                                                      'lasers_count': 24,\n",
    "                                                      'laser_length': 200,\n",
    "                                                      'react_to_green_zone': False,\n",
    "                                                      'react_to_obstacles': True,\n",
    "                                                      'react_to_safe_corridor': False,\n",
    "                                                      'max_prev_obs': 5,\n",
    "                                                      'use_prev_obs': True,\n",
    "                                                      'pad_sectors': True\n",
    "                                                  },\n",
    "                                                  'LeaderPositionsTracker_v2': {\n",
    "                                                      'sensor_class': 'LeaderPositionsTracker_v2',\n",
    "                                                      'eat_close_points': False,\n",
    "                                                      'generate_corridor': True,\n",
    "                                                      'saving_period': 8,\n",
    "                                                      'sensor_name': 'LeaderPositionsTracker_v2',\n",
    "                                                      'start_corridor_behind_follower': True,\n",
    "                                                      \"corridor_length\": 500,\n",
    "                                                      \"corridor_width\" : 75,\n",
    "                                                  }\n",
    "                                         }}})\n"
   ]
  },
  {
   "cell_type": "code",
   "execution_count": 33,
   "metadata": {},
   "outputs": [
    {
     "data": {
      "text/plain": [
       "100"
      ]
     },
     "execution_count": 33,
     "metadata": {},
     "output_type": "execute_result"
    }
   ],
   "source": [
    "l = [0, 1, 2, 3, 5, 6, 9, 11, 12, 14, 16, 17, 18, 19,20, 21, 23, 24, 29, 31, 33, 35, 36, 37, 38, 39, 42, 44, 48, 49, 51, 53, 54, 56, 58, 68, 74, 76,\n",
    "    78, 80, 84, 91, 92, 93, 95, 96, 100, 101, 103, 106, 110, 113, 114, 115, 116, 117,118, 120, 122, 124, 126, 127, 130, 131, 133, \n",
    "     134, 135, 136, 139, 140, 143, 152, 153, 154, 155, 156, 157, 159, 160, 161, 165, 166, 168, 169, 170, 172, 173, 176, 178, 179,\n",
    "    181, 182, 184, 188, 189, 191, 194, 195, 197, 199]\n",
    "l = [0, 2, 3, 5, 6, 7, 9, 11, 12, 14, 16, 17, 18, 19,20, 21, 24, 25, 29, 31, 33, 35, 36, 37, 38, 39, 42, 44, 48, 50, 51, 53, 54, 56, 58, 68, 74, 76,\n",
    "    78, 80, 84, 91, 92, 93, 95, 96, 98, 101, 103, 106, 112, 113, 114, 115, 116, 117,118, 120, 122, 124, 126, 127, 130, 131, 133, \n",
    "     134, 135, 139, 140, 142, 143, 152, 153, 154, 155, 156, 157, 159, 160, 161, 165, 166, 168, 169, 170, 172, 175, 176, 178, 179,\n",
    "    181, 182, 183, 188, 189, 191, 193, 195, 197, 199]\n",
    "len(l)"
   ]
  },
  {
   "cell_type": "code",
   "execution_count": 10,
   "metadata": {},
   "outputs": [],
   "source": [
    "configs = pyhocon.ConfigFactory.parse_file(\"/s/ls4/users/grartem/RL_robots/RL_robotSim/Configs/FollowerContinuous/Environment_2.conf\")\n",
    "#CONFIG = configs[\"ppo_e28_b1_f14v2_prev5_m_trans_v4v2\"].as_plain_ordered_dict()\n",
    "CONFIG = configs[\"envconf_v30_f1v2\"].as_plain_ordered_dict()\n",
    "CONFIG[\"env_config\"][\"base_env_config\"][\"ignore_follower_collisions\"] = True\n",
    "CONFIG[\"env_config\"][\"base_env_config\"][\"early_stopping\"] = {}\n",
    "CONFIG[\"env_config\"][\"wrappers\"] = ['ContinuousObserveModifier_sensorPrev']\n",
    "env = MyMisc.continuous_env_maker(config=CONFIG[\"env_config\"])"
   ]
  },
  {
   "cell_type": "code",
   "execution_count": 35,
   "metadata": {},
   "outputs": [],
   "source": [
    "!mkdir /s/ls4/users/grartem/RL_robots/RL_robotSim/Notebooks/v30_final_1stTry"
   ]
  },
  {
   "cell_type": "code",
   "execution_count": 12,
   "metadata": {},
   "outputs": [
    {
     "data": {
      "text/plain": [
       "(10, 36)"
      ]
     },
     "execution_count": 12,
     "metadata": {},
     "output_type": "execute_result"
    }
   ],
   "source": [
    "ret[0].shape"
   ]
  },
  {
   "cell_type": "code",
   "execution_count": 11,
   "metadata": {},
   "outputs": [
    {
     "name": "stdout",
     "output_type": "stream",
     "text": [
      "===Запуск симуляции номер 0===\n"
     ]
    }
   ],
   "source": [
    "for i in range(200):\n",
    "    env.seed(i)\n",
    "    env.reset()\n",
    "    #for j in range(10000):\n",
    "    for j in range(2):\n",
    "        ret = env.step(action=[0,0.00])\n",
    "        if ret[2]:\n",
    "            break\n",
    "        if env.env.env.leader_finished:\n",
    "            break\n",
    "    break\n",
    "    #clear_output(wait=True)\n",
    "    env.render()\n",
    "    plt.figure(figsize=(10,10))\n",
    "#     plt.imsave(\"/s/ls4/users/grartem/RL_robots/RL_robotSim/Notebooks/CorridorFixTest/{}.png\".format(i),\n",
    "#                pygame.surfarray.array3d(env.gameDisplay).transpose((1,0,2)))\n",
    "#     plt.imsave(\"/home/sheins/rl-test/RL_robotSim/Notebooks/CorridorFixTest/{}.png\".format(i),\n",
    "#                pygame.surfarray.array3d(env.gameDisplay).transpose((1,0,2)))\n",
    "    plt.imsave(\"/s/ls4/users/grartem/RL_robots/RL_robotSim/Notebooks/v30_final_1stTry/{}.png\".format(i),\n",
    "               pygame.surfarray.array3d(env.gameDisplay).transpose((1,0,2)))"
   ]
  },
  {
   "cell_type": "code",
   "execution_count": 15,
   "metadata": {},
   "outputs": [
    {
     "name": "stdout",
     "output_type": "stream",
     "text": [
      "===Запуск симуляции номер 72===\n",
      "АВАРИЯ! -10.0\n",
      "АВАРИЯ! -10.0\n",
      "АВАРИЯ! -10.0\n",
      "АВАРИЯ! -10.0\n",
      "АВАРИЯ! -10.0\n",
      "АВАРИЯ! -10.0\n",
      "АВАРИЯ! -10.0\n",
      "АВАРИЯ! -10.0\n",
      "АВАРИЯ! -10.0\n",
      "АВАРИЯ! -10.0\n",
      "АВАРИЯ! -10.0\n",
      "===Запуск симуляции номер 73===\n",
      "===Запуск симуляции номер 74===\n",
      "===Запуск симуляции номер 75===\n",
      "===Запуск симуляции номер 76===\n",
      "===Запуск симуляции номер 77===\n",
      "===Запуск симуляции номер 78===\n",
      "===Запуск симуляции номер 79===\n",
      "===Запуск симуляции номер 80===\n",
      "===Запуск симуляции номер 81===\n",
      "===Запуск симуляции номер 82===\n",
      "===Запуск симуляции номер 83===\n",
      "===Запуск симуляции номер 84===\n",
      "===Запуск симуляции номер 85===\n",
      "===Запуск симуляции номер 86===\n",
      "===Запуск симуляции номер 87===\n",
      "===Запуск симуляции номер 88===\n",
      "===Запуск симуляции номер 89===\n",
      "===Запуск симуляции номер 90===\n",
      "===Запуск симуляции номер 91===\n",
      "===Запуск симуляции номер 92===\n"
     ]
    },
    {
     "name": "stderr",
     "output_type": "stream",
     "text": [
      "<ipython-input-15-9d09315ffa35>:16: RuntimeWarning: More than 20 figures have been opened. Figures created through the pyplot interface (`matplotlib.pyplot.figure`) are retained until explicitly closed and may consume too much memory. (To control this warning, see the rcParam `figure.max_open_warning`).\n",
      "  plt.figure(figsize=(10,10))\n"
     ]
    },
    {
     "name": "stdout",
     "output_type": "stream",
     "text": [
      "===Запуск симуляции номер 93===\n",
      "===Запуск симуляции номер 94===\n",
      "===Запуск симуляции номер 95===\n",
      "===Запуск симуляции номер 96===\n",
      "===Запуск симуляции номер 97===\n",
      "===Запуск симуляции номер 98===\n",
      "===Запуск симуляции номер 99===\n",
      "===Запуск симуляции номер 100===\n",
      "===Запуск симуляции номер 101===\n",
      "===Запуск симуляции номер 102===\n",
      "===Запуск симуляции номер 103===\n",
      "===Запуск симуляции номер 104===\n",
      "===Запуск симуляции номер 105===\n",
      "===Запуск симуляции номер 106===\n",
      "===Запуск симуляции номер 107===\n",
      "===Запуск симуляции номер 108===\n",
      "===Запуск симуляции номер 109===\n",
      "===Запуск симуляции номер 110===\n",
      "===Запуск симуляции номер 111===\n",
      "===Запуск симуляции номер 112===\n",
      "===Запуск симуляции номер 113===\n",
      "===Запуск симуляции номер 114===\n",
      "===Запуск симуляции номер 115===\n",
      "===Запуск симуляции номер 116===\n",
      "===Запуск симуляции номер 117===\n",
      "===Запуск симуляции номер 118===\n",
      "===Запуск симуляции номер 119===\n",
      "===Запуск симуляции номер 120===\n",
      "===Запуск симуляции номер 121===\n",
      "===Запуск симуляции номер 122===\n",
      "===Запуск симуляции номер 123===\n",
      "===Запуск симуляции номер 124===\n",
      "===Запуск симуляции номер 125===\n",
      "===Запуск симуляции номер 126===\n",
      "===Запуск симуляции номер 127===\n",
      "===Запуск симуляции номер 128===\n",
      "===Запуск симуляции номер 129===\n",
      "===Запуск симуляции номер 130===\n",
      "===Запуск симуляции номер 131===\n",
      "===Запуск симуляции номер 132===\n",
      "===Запуск симуляции номер 133===\n",
      "===Запуск симуляции номер 134===\n",
      "===Запуск симуляции номер 135===\n",
      "===Запуск симуляции номер 136===\n",
      "===Запуск симуляции номер 137===\n",
      "===Запуск симуляции номер 138===\n",
      "===Запуск симуляции номер 139===\n",
      "===Запуск симуляции номер 140===\n",
      "===Запуск симуляции номер 141===\n",
      "===Запуск симуляции номер 142===\n",
      "===Запуск симуляции номер 143===\n",
      "===Запуск симуляции номер 144===\n",
      "===Запуск симуляции номер 145===\n",
      "===Запуск симуляции номер 146===\n",
      "===Запуск симуляции номер 147===\n",
      "===Запуск симуляции номер 148===\n",
      "===Запуск симуляции номер 149===\n",
      "===Запуск симуляции номер 150===\n",
      "===Запуск симуляции номер 151===\n",
      "===Запуск симуляции номер 152===\n",
      "===Запуск симуляции номер 153===\n",
      "===Запуск симуляции номер 154===\n",
      "===Запуск симуляции номер 155===\n",
      "===Запуск симуляции номер 156===\n",
      "===Запуск симуляции номер 157===\n",
      "===Запуск симуляции номер 158===\n",
      "===Запуск симуляции номер 159===\n",
      "===Запуск симуляции номер 160===\n",
      "===Запуск симуляции номер 161===\n",
      "===Запуск симуляции номер 162===\n",
      "===Запуск симуляции номер 163===\n",
      "===Запуск симуляции номер 164===\n",
      "===Запуск симуляции номер 165===\n",
      "===Запуск симуляции номер 166===\n",
      "===Запуск симуляции номер 167===\n",
      "===Запуск симуляции номер 168===\n",
      "===Запуск симуляции номер 169===\n",
      "===Запуск симуляции номер 170===\n",
      "===Запуск симуляции номер 171===\n",
      "===Запуск симуляции номер 172===\n",
      "===Запуск симуляции номер 173===\n",
      "===Запуск симуляции номер 174===\n",
      "===Запуск симуляции номер 175===\n",
      "===Запуск симуляции номер 176===\n",
      "===Запуск симуляции номер 177===\n",
      "===Запуск симуляции номер 178===\n",
      "===Запуск симуляции номер 179===\n",
      "===Запуск симуляции номер 180===\n",
      "===Запуск симуляции номер 181===\n",
      "===Запуск симуляции номер 182===\n",
      "===Запуск симуляции номер 183===\n",
      "===Запуск симуляции номер 184===\n",
      "===Запуск симуляции номер 185===\n",
      "===Запуск симуляции номер 186===\n",
      "===Запуск симуляции номер 187===\n",
      "===Запуск симуляции номер 188===\n",
      "===Запуск симуляции номер 189===\n",
      "===Запуск симуляции номер 190===\n",
      "===Запуск симуляции номер 191===\n",
      "===Запуск симуляции номер 192===\n",
      "===Запуск симуляции номер 193===\n",
      "===Запуск симуляции номер 194===\n",
      "===Запуск симуляции номер 195===\n",
      "===Запуск симуляции номер 196===\n",
      "===Запуск симуляции номер 197===\n",
      "===Запуск симуляции номер 198===\n",
      "===Запуск симуляции номер 199===\n",
      "===Запуск симуляции номер 200===\n",
      "===Запуск симуляции номер 201===\n",
      "===Запуск симуляции номер 202===\n",
      "===Запуск симуляции номер 203===\n",
      "===Запуск симуляции номер 204===\n",
      "===Запуск симуляции номер 205===\n",
      "===Запуск симуляции номер 206===\n",
      "===Запуск симуляции номер 207===\n",
      "===Запуск симуляции номер 208===\n",
      "АВАРИЯ! -10.0\n",
      "АВАРИЯ! -10.0\n",
      "АВАРИЯ! -10.0\n",
      "АВАРИЯ! -10.0\n",
      "АВАРИЯ! -10.0\n",
      "АВАРИЯ! -10.0\n",
      "АВАРИЯ! -10.0\n",
      "АВАРИЯ! -10.0\n",
      "АВАРИЯ! -10.0\n",
      "АВАРИЯ! -10.0\n",
      "АВАРИЯ! -10.0\n",
      "===Запуск симуляции номер 209===\n",
      "===Запуск симуляции номер 210===\n",
      "===Запуск симуляции номер 211===\n",
      "===Запуск симуляции номер 212===\n",
      "===Запуск симуляции номер 213===\n",
      "===Запуск симуляции номер 214===\n",
      "===Запуск симуляции номер 215===\n",
      "===Запуск симуляции номер 216===\n",
      "===Запуск симуляции номер 217===\n",
      "===Запуск симуляции номер 218===\n",
      "===Запуск симуляции номер 219===\n",
      "===Запуск симуляции номер 220===\n",
      "===Запуск симуляции номер 221===\n",
      "===Запуск симуляции номер 222===\n",
      "===Запуск симуляции номер 223===\n",
      "===Запуск симуляции номер 224===\n",
      "===Запуск симуляции номер 225===\n",
      "===Запуск симуляции номер 226===\n",
      "===Запуск симуляции номер 227===\n",
      "===Запуск симуляции номер 228===\n",
      "===Запуск симуляции номер 229===\n",
      "===Запуск симуляции номер 230===\n",
      "===Запуск симуляции номер 231===\n",
      "===Запуск симуляции номер 232===\n",
      "===Запуск симуляции номер 233===\n",
      "===Запуск симуляции номер 234===\n",
      "===Запуск симуляции номер 235===\n",
      "===Запуск симуляции номер 236===\n",
      "===Запуск симуляции номер 237===\n",
      "===Запуск симуляции номер 238===\n",
      "===Запуск симуляции номер 239===\n",
      "===Запуск симуляции номер 240===\n",
      "===Запуск симуляции номер 241===\n",
      "===Запуск симуляции номер 242===\n",
      "===Запуск симуляции номер 243===\n",
      "===Запуск симуляции номер 244===\n",
      "===Запуск симуляции номер 245===\n",
      "===Запуск симуляции номер 246===\n",
      "===Запуск симуляции номер 247===\n",
      "===Запуск симуляции номер 248===\n",
      "===Запуск симуляции номер 249===\n",
      "===Запуск симуляции номер 250===\n",
      "===Запуск симуляции номер 251===\n",
      "===Запуск симуляции номер 252===\n",
      "===Запуск симуляции номер 253===\n",
      "===Запуск симуляции номер 254===\n",
      "===Запуск симуляции номер 255===\n",
      "===Запуск симуляции номер 256===\n",
      "===Запуск симуляции номер 257===\n",
      "===Запуск симуляции номер 258===\n",
      "===Запуск симуляции номер 259===\n",
      "===Запуск симуляции номер 260===\n",
      "===Запуск симуляции номер 261===\n",
      "===Запуск симуляции номер 262===\n",
      "===Запуск симуляции номер 263===\n",
      "===Запуск симуляции номер 264===\n",
      "===Запуск симуляции номер 265===\n",
      "===Запуск симуляции номер 266===\n",
      "===Запуск симуляции номер 267===\n",
      "===Запуск симуляции номер 268===\n",
      "===Запуск симуляции номер 269===\n",
      "===Запуск симуляции номер 270===\n",
      "===Запуск симуляции номер 271===\n"
     ]
    },
    {
     "data": {
      "text/plain": [
       "<Figure size 720x720 with 0 Axes>"
      ]
     },
     "metadata": {},
     "output_type": "display_data"
    },
    {
     "data": {
      "text/plain": [
       "<Figure size 720x720 with 0 Axes>"
      ]
     },
     "metadata": {},
     "output_type": "display_data"
    },
    {
     "data": {
      "text/plain": [
       "<Figure size 720x720 with 0 Axes>"
      ]
     },
     "metadata": {},
     "output_type": "display_data"
    },
    {
     "data": {
      "text/plain": [
       "<Figure size 720x720 with 0 Axes>"
      ]
     },
     "metadata": {},
     "output_type": "display_data"
    },
    {
     "data": {
      "text/plain": [
       "<Figure size 720x720 with 0 Axes>"
      ]
     },
     "metadata": {},
     "output_type": "display_data"
    },
    {
     "data": {
      "text/plain": [
       "<Figure size 720x720 with 0 Axes>"
      ]
     },
     "metadata": {},
     "output_type": "display_data"
    },
    {
     "data": {
      "text/plain": [
       "<Figure size 720x720 with 0 Axes>"
      ]
     },
     "metadata": {},
     "output_type": "display_data"
    },
    {
     "data": {
      "text/plain": [
       "<Figure size 720x720 with 0 Axes>"
      ]
     },
     "metadata": {},
     "output_type": "display_data"
    },
    {
     "data": {
      "text/plain": [
       "<Figure size 720x720 with 0 Axes>"
      ]
     },
     "metadata": {},
     "output_type": "display_data"
    },
    {
     "data": {
      "text/plain": [
       "<Figure size 720x720 with 0 Axes>"
      ]
     },
     "metadata": {},
     "output_type": "display_data"
    },
    {
     "data": {
      "text/plain": [
       "<Figure size 720x720 with 0 Axes>"
      ]
     },
     "metadata": {},
     "output_type": "display_data"
    },
    {
     "data": {
      "text/plain": [
       "<Figure size 720x720 with 0 Axes>"
      ]
     },
     "metadata": {},
     "output_type": "display_data"
    },
    {
     "data": {
      "text/plain": [
       "<Figure size 720x720 with 0 Axes>"
      ]
     },
     "metadata": {},
     "output_type": "display_data"
    },
    {
     "data": {
      "text/plain": [
       "<Figure size 720x720 with 0 Axes>"
      ]
     },
     "metadata": {},
     "output_type": "display_data"
    },
    {
     "data": {
      "text/plain": [
       "<Figure size 720x720 with 0 Axes>"
      ]
     },
     "metadata": {},
     "output_type": "display_data"
    },
    {
     "data": {
      "text/plain": [
       "<Figure size 720x720 with 0 Axes>"
      ]
     },
     "metadata": {},
     "output_type": "display_data"
    },
    {
     "data": {
      "text/plain": [
       "<Figure size 720x720 with 0 Axes>"
      ]
     },
     "metadata": {},
     "output_type": "display_data"
    },
    {
     "data": {
      "text/plain": [
       "<Figure size 720x720 with 0 Axes>"
      ]
     },
     "metadata": {},
     "output_type": "display_data"
    },
    {
     "data": {
      "text/plain": [
       "<Figure size 720x720 with 0 Axes>"
      ]
     },
     "metadata": {},
     "output_type": "display_data"
    },
    {
     "data": {
      "text/plain": [
       "<Figure size 720x720 with 0 Axes>"
      ]
     },
     "metadata": {},
     "output_type": "display_data"
    },
    {
     "data": {
      "text/plain": [
       "<Figure size 720x720 with 0 Axes>"
      ]
     },
     "metadata": {},
     "output_type": "display_data"
    },
    {
     "data": {
      "text/plain": [
       "<Figure size 720x720 with 0 Axes>"
      ]
     },
     "metadata": {},
     "output_type": "display_data"
    },
    {
     "data": {
      "text/plain": [
       "<Figure size 720x720 with 0 Axes>"
      ]
     },
     "metadata": {},
     "output_type": "display_data"
    },
    {
     "data": {
      "text/plain": [
       "<Figure size 720x720 with 0 Axes>"
      ]
     },
     "metadata": {},
     "output_type": "display_data"
    },
    {
     "data": {
      "text/plain": [
       "<Figure size 720x720 with 0 Axes>"
      ]
     },
     "metadata": {},
     "output_type": "display_data"
    },
    {
     "data": {
      "text/plain": [
       "<Figure size 720x720 with 0 Axes>"
      ]
     },
     "metadata": {},
     "output_type": "display_data"
    },
    {
     "data": {
      "text/plain": [
       "<Figure size 720x720 with 0 Axes>"
      ]
     },
     "metadata": {},
     "output_type": "display_data"
    },
    {
     "data": {
      "text/plain": [
       "<Figure size 720x720 with 0 Axes>"
      ]
     },
     "metadata": {},
     "output_type": "display_data"
    },
    {
     "data": {
      "text/plain": [
       "<Figure size 720x720 with 0 Axes>"
      ]
     },
     "metadata": {},
     "output_type": "display_data"
    },
    {
     "data": {
      "text/plain": [
       "<Figure size 720x720 with 0 Axes>"
      ]
     },
     "metadata": {},
     "output_type": "display_data"
    },
    {
     "data": {
      "text/plain": [
       "<Figure size 720x720 with 0 Axes>"
      ]
     },
     "metadata": {},
     "output_type": "display_data"
    },
    {
     "data": {
      "text/plain": [
       "<Figure size 720x720 with 0 Axes>"
      ]
     },
     "metadata": {},
     "output_type": "display_data"
    },
    {
     "data": {
      "text/plain": [
       "<Figure size 720x720 with 0 Axes>"
      ]
     },
     "metadata": {},
     "output_type": "display_data"
    },
    {
     "data": {
      "text/plain": [
       "<Figure size 720x720 with 0 Axes>"
      ]
     },
     "metadata": {},
     "output_type": "display_data"
    },
    {
     "data": {
      "text/plain": [
       "<Figure size 720x720 with 0 Axes>"
      ]
     },
     "metadata": {},
     "output_type": "display_data"
    },
    {
     "data": {
      "text/plain": [
       "<Figure size 720x720 with 0 Axes>"
      ]
     },
     "metadata": {},
     "output_type": "display_data"
    },
    {
     "data": {
      "text/plain": [
       "<Figure size 720x720 with 0 Axes>"
      ]
     },
     "metadata": {},
     "output_type": "display_data"
    },
    {
     "data": {
      "text/plain": [
       "<Figure size 720x720 with 0 Axes>"
      ]
     },
     "metadata": {},
     "output_type": "display_data"
    },
    {
     "data": {
      "text/plain": [
       "<Figure size 720x720 with 0 Axes>"
      ]
     },
     "metadata": {},
     "output_type": "display_data"
    },
    {
     "data": {
      "text/plain": [
       "<Figure size 720x720 with 0 Axes>"
      ]
     },
     "metadata": {},
     "output_type": "display_data"
    },
    {
     "data": {
      "text/plain": [
       "<Figure size 720x720 with 0 Axes>"
      ]
     },
     "metadata": {},
     "output_type": "display_data"
    },
    {
     "data": {
      "text/plain": [
       "<Figure size 720x720 with 0 Axes>"
      ]
     },
     "metadata": {},
     "output_type": "display_data"
    },
    {
     "data": {
      "text/plain": [
       "<Figure size 720x720 with 0 Axes>"
      ]
     },
     "metadata": {},
     "output_type": "display_data"
    },
    {
     "data": {
      "text/plain": [
       "<Figure size 720x720 with 0 Axes>"
      ]
     },
     "metadata": {},
     "output_type": "display_data"
    },
    {
     "data": {
      "text/plain": [
       "<Figure size 720x720 with 0 Axes>"
      ]
     },
     "metadata": {},
     "output_type": "display_data"
    },
    {
     "data": {
      "text/plain": [
       "<Figure size 720x720 with 0 Axes>"
      ]
     },
     "metadata": {},
     "output_type": "display_data"
    },
    {
     "data": {
      "text/plain": [
       "<Figure size 720x720 with 0 Axes>"
      ]
     },
     "metadata": {},
     "output_type": "display_data"
    },
    {
     "data": {
      "text/plain": [
       "<Figure size 720x720 with 0 Axes>"
      ]
     },
     "metadata": {},
     "output_type": "display_data"
    },
    {
     "data": {
      "text/plain": [
       "<Figure size 720x720 with 0 Axes>"
      ]
     },
     "metadata": {},
     "output_type": "display_data"
    },
    {
     "data": {
      "text/plain": [
       "<Figure size 720x720 with 0 Axes>"
      ]
     },
     "metadata": {},
     "output_type": "display_data"
    },
    {
     "data": {
      "text/plain": [
       "<Figure size 720x720 with 0 Axes>"
      ]
     },
     "metadata": {},
     "output_type": "display_data"
    },
    {
     "data": {
      "text/plain": [
       "<Figure size 720x720 with 0 Axes>"
      ]
     },
     "metadata": {},
     "output_type": "display_data"
    },
    {
     "data": {
      "text/plain": [
       "<Figure size 720x720 with 0 Axes>"
      ]
     },
     "metadata": {},
     "output_type": "display_data"
    },
    {
     "data": {
      "text/plain": [
       "<Figure size 720x720 with 0 Axes>"
      ]
     },
     "metadata": {},
     "output_type": "display_data"
    },
    {
     "data": {
      "text/plain": [
       "<Figure size 720x720 with 0 Axes>"
      ]
     },
     "metadata": {},
     "output_type": "display_data"
    },
    {
     "data": {
      "text/plain": [
       "<Figure size 720x720 with 0 Axes>"
      ]
     },
     "metadata": {},
     "output_type": "display_data"
    },
    {
     "data": {
      "text/plain": [
       "<Figure size 720x720 with 0 Axes>"
      ]
     },
     "metadata": {},
     "output_type": "display_data"
    },
    {
     "data": {
      "text/plain": [
       "<Figure size 720x720 with 0 Axes>"
      ]
     },
     "metadata": {},
     "output_type": "display_data"
    },
    {
     "data": {
      "text/plain": [
       "<Figure size 720x720 with 0 Axes>"
      ]
     },
     "metadata": {},
     "output_type": "display_data"
    },
    {
     "data": {
      "text/plain": [
       "<Figure size 720x720 with 0 Axes>"
      ]
     },
     "metadata": {},
     "output_type": "display_data"
    },
    {
     "data": {
      "text/plain": [
       "<Figure size 720x720 with 0 Axes>"
      ]
     },
     "metadata": {},
     "output_type": "display_data"
    },
    {
     "data": {
      "text/plain": [
       "<Figure size 720x720 with 0 Axes>"
      ]
     },
     "metadata": {},
     "output_type": "display_data"
    },
    {
     "data": {
      "text/plain": [
       "<Figure size 720x720 with 0 Axes>"
      ]
     },
     "metadata": {},
     "output_type": "display_data"
    },
    {
     "data": {
      "text/plain": [
       "<Figure size 720x720 with 0 Axes>"
      ]
     },
     "metadata": {},
     "output_type": "display_data"
    },
    {
     "data": {
      "text/plain": [
       "<Figure size 720x720 with 0 Axes>"
      ]
     },
     "metadata": {},
     "output_type": "display_data"
    },
    {
     "data": {
      "text/plain": [
       "<Figure size 720x720 with 0 Axes>"
      ]
     },
     "metadata": {},
     "output_type": "display_data"
    },
    {
     "data": {
      "text/plain": [
       "<Figure size 720x720 with 0 Axes>"
      ]
     },
     "metadata": {},
     "output_type": "display_data"
    },
    {
     "data": {
      "text/plain": [
       "<Figure size 720x720 with 0 Axes>"
      ]
     },
     "metadata": {},
     "output_type": "display_data"
    },
    {
     "data": {
      "text/plain": [
       "<Figure size 720x720 with 0 Axes>"
      ]
     },
     "metadata": {},
     "output_type": "display_data"
    },
    {
     "data": {
      "text/plain": [
       "<Figure size 720x720 with 0 Axes>"
      ]
     },
     "metadata": {},
     "output_type": "display_data"
    },
    {
     "data": {
      "text/plain": [
       "<Figure size 720x720 with 0 Axes>"
      ]
     },
     "metadata": {},
     "output_type": "display_data"
    },
    {
     "data": {
      "text/plain": [
       "<Figure size 720x720 with 0 Axes>"
      ]
     },
     "metadata": {},
     "output_type": "display_data"
    },
    {
     "data": {
      "text/plain": [
       "<Figure size 720x720 with 0 Axes>"
      ]
     },
     "metadata": {},
     "output_type": "display_data"
    },
    {
     "data": {
      "text/plain": [
       "<Figure size 720x720 with 0 Axes>"
      ]
     },
     "metadata": {},
     "output_type": "display_data"
    },
    {
     "data": {
      "text/plain": [
       "<Figure size 720x720 with 0 Axes>"
      ]
     },
     "metadata": {},
     "output_type": "display_data"
    },
    {
     "data": {
      "text/plain": [
       "<Figure size 720x720 with 0 Axes>"
      ]
     },
     "metadata": {},
     "output_type": "display_data"
    },
    {
     "data": {
      "text/plain": [
       "<Figure size 720x720 with 0 Axes>"
      ]
     },
     "metadata": {},
     "output_type": "display_data"
    },
    {
     "data": {
      "text/plain": [
       "<Figure size 720x720 with 0 Axes>"
      ]
     },
     "metadata": {},
     "output_type": "display_data"
    },
    {
     "data": {
      "text/plain": [
       "<Figure size 720x720 with 0 Axes>"
      ]
     },
     "metadata": {},
     "output_type": "display_data"
    },
    {
     "data": {
      "text/plain": [
       "<Figure size 720x720 with 0 Axes>"
      ]
     },
     "metadata": {},
     "output_type": "display_data"
    },
    {
     "data": {
      "text/plain": [
       "<Figure size 720x720 with 0 Axes>"
      ]
     },
     "metadata": {},
     "output_type": "display_data"
    },
    {
     "data": {
      "text/plain": [
       "<Figure size 720x720 with 0 Axes>"
      ]
     },
     "metadata": {},
     "output_type": "display_data"
    },
    {
     "data": {
      "text/plain": [
       "<Figure size 720x720 with 0 Axes>"
      ]
     },
     "metadata": {},
     "output_type": "display_data"
    },
    {
     "data": {
      "text/plain": [
       "<Figure size 720x720 with 0 Axes>"
      ]
     },
     "metadata": {},
     "output_type": "display_data"
    },
    {
     "data": {
      "text/plain": [
       "<Figure size 720x720 with 0 Axes>"
      ]
     },
     "metadata": {},
     "output_type": "display_data"
    },
    {
     "data": {
      "text/plain": [
       "<Figure size 720x720 with 0 Axes>"
      ]
     },
     "metadata": {},
     "output_type": "display_data"
    },
    {
     "data": {
      "text/plain": [
       "<Figure size 720x720 with 0 Axes>"
      ]
     },
     "metadata": {},
     "output_type": "display_data"
    },
    {
     "data": {
      "text/plain": [
       "<Figure size 720x720 with 0 Axes>"
      ]
     },
     "metadata": {},
     "output_type": "display_data"
    },
    {
     "data": {
      "text/plain": [
       "<Figure size 720x720 with 0 Axes>"
      ]
     },
     "metadata": {},
     "output_type": "display_data"
    },
    {
     "data": {
      "text/plain": [
       "<Figure size 720x720 with 0 Axes>"
      ]
     },
     "metadata": {},
     "output_type": "display_data"
    },
    {
     "data": {
      "text/plain": [
       "<Figure size 720x720 with 0 Axes>"
      ]
     },
     "metadata": {},
     "output_type": "display_data"
    },
    {
     "data": {
      "text/plain": [
       "<Figure size 720x720 with 0 Axes>"
      ]
     },
     "metadata": {},
     "output_type": "display_data"
    },
    {
     "data": {
      "text/plain": [
       "<Figure size 720x720 with 0 Axes>"
      ]
     },
     "metadata": {},
     "output_type": "display_data"
    },
    {
     "data": {
      "text/plain": [
       "<Figure size 720x720 with 0 Axes>"
      ]
     },
     "metadata": {},
     "output_type": "display_data"
    },
    {
     "data": {
      "text/plain": [
       "<Figure size 720x720 with 0 Axes>"
      ]
     },
     "metadata": {},
     "output_type": "display_data"
    },
    {
     "data": {
      "text/plain": [
       "<Figure size 720x720 with 0 Axes>"
      ]
     },
     "metadata": {},
     "output_type": "display_data"
    },
    {
     "data": {
      "text/plain": [
       "<Figure size 720x720 with 0 Axes>"
      ]
     },
     "metadata": {},
     "output_type": "display_data"
    },
    {
     "data": {
      "text/plain": [
       "<Figure size 720x720 with 0 Axes>"
      ]
     },
     "metadata": {},
     "output_type": "display_data"
    },
    {
     "data": {
      "text/plain": [
       "<Figure size 720x720 with 0 Axes>"
      ]
     },
     "metadata": {},
     "output_type": "display_data"
    },
    {
     "data": {
      "text/plain": [
       "<Figure size 720x720 with 0 Axes>"
      ]
     },
     "metadata": {},
     "output_type": "display_data"
    },
    {
     "data": {
      "text/plain": [
       "<Figure size 720x720 with 0 Axes>"
      ]
     },
     "metadata": {},
     "output_type": "display_data"
    },
    {
     "data": {
      "text/plain": [
       "<Figure size 720x720 with 0 Axes>"
      ]
     },
     "metadata": {},
     "output_type": "display_data"
    },
    {
     "data": {
      "text/plain": [
       "<Figure size 720x720 with 0 Axes>"
      ]
     },
     "metadata": {},
     "output_type": "display_data"
    },
    {
     "data": {
      "text/plain": [
       "<Figure size 720x720 with 0 Axes>"
      ]
     },
     "metadata": {},
     "output_type": "display_data"
    },
    {
     "data": {
      "text/plain": [
       "<Figure size 720x720 with 0 Axes>"
      ]
     },
     "metadata": {},
     "output_type": "display_data"
    },
    {
     "data": {
      "text/plain": [
       "<Figure size 720x720 with 0 Axes>"
      ]
     },
     "metadata": {},
     "output_type": "display_data"
    },
    {
     "data": {
      "text/plain": [
       "<Figure size 720x720 with 0 Axes>"
      ]
     },
     "metadata": {},
     "output_type": "display_data"
    },
    {
     "data": {
      "text/plain": [
       "<Figure size 720x720 with 0 Axes>"
      ]
     },
     "metadata": {},
     "output_type": "display_data"
    },
    {
     "data": {
      "text/plain": [
       "<Figure size 720x720 with 0 Axes>"
      ]
     },
     "metadata": {},
     "output_type": "display_data"
    },
    {
     "data": {
      "text/plain": [
       "<Figure size 720x720 with 0 Axes>"
      ]
     },
     "metadata": {},
     "output_type": "display_data"
    },
    {
     "data": {
      "text/plain": [
       "<Figure size 720x720 with 0 Axes>"
      ]
     },
     "metadata": {},
     "output_type": "display_data"
    },
    {
     "data": {
      "text/plain": [
       "<Figure size 720x720 with 0 Axes>"
      ]
     },
     "metadata": {},
     "output_type": "display_data"
    },
    {
     "data": {
      "text/plain": [
       "<Figure size 720x720 with 0 Axes>"
      ]
     },
     "metadata": {},
     "output_type": "display_data"
    },
    {
     "data": {
      "text/plain": [
       "<Figure size 720x720 with 0 Axes>"
      ]
     },
     "metadata": {},
     "output_type": "display_data"
    },
    {
     "data": {
      "text/plain": [
       "<Figure size 720x720 with 0 Axes>"
      ]
     },
     "metadata": {},
     "output_type": "display_data"
    },
    {
     "data": {
      "text/plain": [
       "<Figure size 720x720 with 0 Axes>"
      ]
     },
     "metadata": {},
     "output_type": "display_data"
    },
    {
     "data": {
      "text/plain": [
       "<Figure size 720x720 with 0 Axes>"
      ]
     },
     "metadata": {},
     "output_type": "display_data"
    },
    {
     "data": {
      "text/plain": [
       "<Figure size 720x720 with 0 Axes>"
      ]
     },
     "metadata": {},
     "output_type": "display_data"
    },
    {
     "data": {
      "text/plain": [
       "<Figure size 720x720 with 0 Axes>"
      ]
     },
     "metadata": {},
     "output_type": "display_data"
    },
    {
     "data": {
      "text/plain": [
       "<Figure size 720x720 with 0 Axes>"
      ]
     },
     "metadata": {},
     "output_type": "display_data"
    },
    {
     "data": {
      "text/plain": [
       "<Figure size 720x720 with 0 Axes>"
      ]
     },
     "metadata": {},
     "output_type": "display_data"
    },
    {
     "data": {
      "text/plain": [
       "<Figure size 720x720 with 0 Axes>"
      ]
     },
     "metadata": {},
     "output_type": "display_data"
    },
    {
     "data": {
      "text/plain": [
       "<Figure size 720x720 with 0 Axes>"
      ]
     },
     "metadata": {},
     "output_type": "display_data"
    },
    {
     "data": {
      "text/plain": [
       "<Figure size 720x720 with 0 Axes>"
      ]
     },
     "metadata": {},
     "output_type": "display_data"
    },
    {
     "data": {
      "text/plain": [
       "<Figure size 720x720 with 0 Axes>"
      ]
     },
     "metadata": {},
     "output_type": "display_data"
    },
    {
     "data": {
      "text/plain": [
       "<Figure size 720x720 with 0 Axes>"
      ]
     },
     "metadata": {},
     "output_type": "display_data"
    },
    {
     "data": {
      "text/plain": [
       "<Figure size 720x720 with 0 Axes>"
      ]
     },
     "metadata": {},
     "output_type": "display_data"
    },
    {
     "data": {
      "text/plain": [
       "<Figure size 720x720 with 0 Axes>"
      ]
     },
     "metadata": {},
     "output_type": "display_data"
    },
    {
     "data": {
      "text/plain": [
       "<Figure size 720x720 with 0 Axes>"
      ]
     },
     "metadata": {},
     "output_type": "display_data"
    },
    {
     "data": {
      "text/plain": [
       "<Figure size 720x720 with 0 Axes>"
      ]
     },
     "metadata": {},
     "output_type": "display_data"
    },
    {
     "data": {
      "text/plain": [
       "<Figure size 720x720 with 0 Axes>"
      ]
     },
     "metadata": {},
     "output_type": "display_data"
    },
    {
     "data": {
      "text/plain": [
       "<Figure size 720x720 with 0 Axes>"
      ]
     },
     "metadata": {},
     "output_type": "display_data"
    },
    {
     "data": {
      "text/plain": [
       "<Figure size 720x720 with 0 Axes>"
      ]
     },
     "metadata": {},
     "output_type": "display_data"
    },
    {
     "data": {
      "text/plain": [
       "<Figure size 720x720 with 0 Axes>"
      ]
     },
     "metadata": {},
     "output_type": "display_data"
    },
    {
     "data": {
      "text/plain": [
       "<Figure size 720x720 with 0 Axes>"
      ]
     },
     "metadata": {},
     "output_type": "display_data"
    },
    {
     "data": {
      "text/plain": [
       "<Figure size 720x720 with 0 Axes>"
      ]
     },
     "metadata": {},
     "output_type": "display_data"
    },
    {
     "data": {
      "text/plain": [
       "<Figure size 720x720 with 0 Axes>"
      ]
     },
     "metadata": {},
     "output_type": "display_data"
    },
    {
     "data": {
      "text/plain": [
       "<Figure size 720x720 with 0 Axes>"
      ]
     },
     "metadata": {},
     "output_type": "display_data"
    },
    {
     "data": {
      "text/plain": [
       "<Figure size 720x720 with 0 Axes>"
      ]
     },
     "metadata": {},
     "output_type": "display_data"
    },
    {
     "data": {
      "text/plain": [
       "<Figure size 720x720 with 0 Axes>"
      ]
     },
     "metadata": {},
     "output_type": "display_data"
    },
    {
     "data": {
      "text/plain": [
       "<Figure size 720x720 with 0 Axes>"
      ]
     },
     "metadata": {},
     "output_type": "display_data"
    },
    {
     "data": {
      "text/plain": [
       "<Figure size 720x720 with 0 Axes>"
      ]
     },
     "metadata": {},
     "output_type": "display_data"
    },
    {
     "data": {
      "text/plain": [
       "<Figure size 720x720 with 0 Axes>"
      ]
     },
     "metadata": {},
     "output_type": "display_data"
    },
    {
     "data": {
      "text/plain": [
       "<Figure size 720x720 with 0 Axes>"
      ]
     },
     "metadata": {},
     "output_type": "display_data"
    },
    {
     "data": {
      "text/plain": [
       "<Figure size 720x720 with 0 Axes>"
      ]
     },
     "metadata": {},
     "output_type": "display_data"
    },
    {
     "data": {
      "text/plain": [
       "<Figure size 720x720 with 0 Axes>"
      ]
     },
     "metadata": {},
     "output_type": "display_data"
    },
    {
     "data": {
      "text/plain": [
       "<Figure size 720x720 with 0 Axes>"
      ]
     },
     "metadata": {},
     "output_type": "display_data"
    },
    {
     "data": {
      "text/plain": [
       "<Figure size 720x720 with 0 Axes>"
      ]
     },
     "metadata": {},
     "output_type": "display_data"
    },
    {
     "data": {
      "text/plain": [
       "<Figure size 720x720 with 0 Axes>"
      ]
     },
     "metadata": {},
     "output_type": "display_data"
    },
    {
     "data": {
      "text/plain": [
       "<Figure size 720x720 with 0 Axes>"
      ]
     },
     "metadata": {},
     "output_type": "display_data"
    },
    {
     "data": {
      "text/plain": [
       "<Figure size 720x720 with 0 Axes>"
      ]
     },
     "metadata": {},
     "output_type": "display_data"
    },
    {
     "data": {
      "text/plain": [
       "<Figure size 720x720 with 0 Axes>"
      ]
     },
     "metadata": {},
     "output_type": "display_data"
    },
    {
     "data": {
      "text/plain": [
       "<Figure size 720x720 with 0 Axes>"
      ]
     },
     "metadata": {},
     "output_type": "display_data"
    },
    {
     "data": {
      "text/plain": [
       "<Figure size 720x720 with 0 Axes>"
      ]
     },
     "metadata": {},
     "output_type": "display_data"
    },
    {
     "data": {
      "text/plain": [
       "<Figure size 720x720 with 0 Axes>"
      ]
     },
     "metadata": {},
     "output_type": "display_data"
    },
    {
     "data": {
      "text/plain": [
       "<Figure size 720x720 with 0 Axes>"
      ]
     },
     "metadata": {},
     "output_type": "display_data"
    },
    {
     "data": {
      "text/plain": [
       "<Figure size 720x720 with 0 Axes>"
      ]
     },
     "metadata": {},
     "output_type": "display_data"
    },
    {
     "data": {
      "text/plain": [
       "<Figure size 720x720 with 0 Axes>"
      ]
     },
     "metadata": {},
     "output_type": "display_data"
    },
    {
     "data": {
      "text/plain": [
       "<Figure size 720x720 with 0 Axes>"
      ]
     },
     "metadata": {},
     "output_type": "display_data"
    },
    {
     "data": {
      "text/plain": [
       "<Figure size 720x720 with 0 Axes>"
      ]
     },
     "metadata": {},
     "output_type": "display_data"
    },
    {
     "data": {
      "text/plain": [
       "<Figure size 720x720 with 0 Axes>"
      ]
     },
     "metadata": {},
     "output_type": "display_data"
    },
    {
     "data": {
      "text/plain": [
       "<Figure size 720x720 with 0 Axes>"
      ]
     },
     "metadata": {},
     "output_type": "display_data"
    },
    {
     "data": {
      "text/plain": [
       "<Figure size 720x720 with 0 Axes>"
      ]
     },
     "metadata": {},
     "output_type": "display_data"
    },
    {
     "data": {
      "text/plain": [
       "<Figure size 720x720 with 0 Axes>"
      ]
     },
     "metadata": {},
     "output_type": "display_data"
    },
    {
     "data": {
      "text/plain": [
       "<Figure size 720x720 with 0 Axes>"
      ]
     },
     "metadata": {},
     "output_type": "display_data"
    },
    {
     "data": {
      "text/plain": [
       "<Figure size 720x720 with 0 Axes>"
      ]
     },
     "metadata": {},
     "output_type": "display_data"
    },
    {
     "data": {
      "text/plain": [
       "<Figure size 720x720 with 0 Axes>"
      ]
     },
     "metadata": {},
     "output_type": "display_data"
    },
    {
     "data": {
      "text/plain": [
       "<Figure size 720x720 with 0 Axes>"
      ]
     },
     "metadata": {},
     "output_type": "display_data"
    },
    {
     "data": {
      "text/plain": [
       "<Figure size 720x720 with 0 Axes>"
      ]
     },
     "metadata": {},
     "output_type": "display_data"
    },
    {
     "data": {
      "text/plain": [
       "<Figure size 720x720 with 0 Axes>"
      ]
     },
     "metadata": {},
     "output_type": "display_data"
    },
    {
     "data": {
      "text/plain": [
       "<Figure size 720x720 with 0 Axes>"
      ]
     },
     "metadata": {},
     "output_type": "display_data"
    },
    {
     "data": {
      "text/plain": [
       "<Figure size 720x720 with 0 Axes>"
      ]
     },
     "metadata": {},
     "output_type": "display_data"
    },
    {
     "data": {
      "text/plain": [
       "<Figure size 720x720 with 0 Axes>"
      ]
     },
     "metadata": {},
     "output_type": "display_data"
    },
    {
     "data": {
      "text/plain": [
       "<Figure size 720x720 with 0 Axes>"
      ]
     },
     "metadata": {},
     "output_type": "display_data"
    },
    {
     "data": {
      "text/plain": [
       "<Figure size 720x720 with 0 Axes>"
      ]
     },
     "metadata": {},
     "output_type": "display_data"
    },
    {
     "data": {
      "text/plain": [
       "<Figure size 720x720 with 0 Axes>"
      ]
     },
     "metadata": {},
     "output_type": "display_data"
    },
    {
     "data": {
      "text/plain": [
       "<Figure size 720x720 with 0 Axes>"
      ]
     },
     "metadata": {},
     "output_type": "display_data"
    },
    {
     "data": {
      "text/plain": [
       "<Figure size 720x720 with 0 Axes>"
      ]
     },
     "metadata": {},
     "output_type": "display_data"
    },
    {
     "data": {
      "text/plain": [
       "<Figure size 720x720 with 0 Axes>"
      ]
     },
     "metadata": {},
     "output_type": "display_data"
    },
    {
     "data": {
      "text/plain": [
       "<Figure size 720x720 with 0 Axes>"
      ]
     },
     "metadata": {},
     "output_type": "display_data"
    },
    {
     "data": {
      "text/plain": [
       "<Figure size 720x720 with 0 Axes>"
      ]
     },
     "metadata": {},
     "output_type": "display_data"
    },
    {
     "data": {
      "text/plain": [
       "<Figure size 720x720 with 0 Axes>"
      ]
     },
     "metadata": {},
     "output_type": "display_data"
    },
    {
     "data": {
      "text/plain": [
       "<Figure size 720x720 with 0 Axes>"
      ]
     },
     "metadata": {},
     "output_type": "display_data"
    },
    {
     "data": {
      "text/plain": [
       "<Figure size 720x720 with 0 Axes>"
      ]
     },
     "metadata": {},
     "output_type": "display_data"
    },
    {
     "data": {
      "text/plain": [
       "<Figure size 720x720 with 0 Axes>"
      ]
     },
     "metadata": {},
     "output_type": "display_data"
    },
    {
     "data": {
      "text/plain": [
       "<Figure size 720x720 with 0 Axes>"
      ]
     },
     "metadata": {},
     "output_type": "display_data"
    },
    {
     "data": {
      "text/plain": [
       "<Figure size 720x720 with 0 Axes>"
      ]
     },
     "metadata": {},
     "output_type": "display_data"
    },
    {
     "data": {
      "text/plain": [
       "<Figure size 720x720 with 0 Axes>"
      ]
     },
     "metadata": {},
     "output_type": "display_data"
    },
    {
     "data": {
      "text/plain": [
       "<Figure size 720x720 with 0 Axes>"
      ]
     },
     "metadata": {},
     "output_type": "display_data"
    },
    {
     "data": {
      "text/plain": [
       "<Figure size 720x720 with 0 Axes>"
      ]
     },
     "metadata": {},
     "output_type": "display_data"
    },
    {
     "data": {
      "text/plain": [
       "<Figure size 720x720 with 0 Axes>"
      ]
     },
     "metadata": {},
     "output_type": "display_data"
    },
    {
     "data": {
      "text/plain": [
       "<Figure size 720x720 with 0 Axes>"
      ]
     },
     "metadata": {},
     "output_type": "display_data"
    },
    {
     "data": {
      "text/plain": [
       "<Figure size 720x720 with 0 Axes>"
      ]
     },
     "metadata": {},
     "output_type": "display_data"
    },
    {
     "data": {
      "text/plain": [
       "<Figure size 720x720 with 0 Axes>"
      ]
     },
     "metadata": {},
     "output_type": "display_data"
    },
    {
     "data": {
      "text/plain": [
       "<Figure size 720x720 with 0 Axes>"
      ]
     },
     "metadata": {},
     "output_type": "display_data"
    },
    {
     "data": {
      "text/plain": [
       "<Figure size 720x720 with 0 Axes>"
      ]
     },
     "metadata": {},
     "output_type": "display_data"
    },
    {
     "data": {
      "text/plain": [
       "<Figure size 720x720 with 0 Axes>"
      ]
     },
     "metadata": {},
     "output_type": "display_data"
    },
    {
     "data": {
      "text/plain": [
       "<Figure size 720x720 with 0 Axes>"
      ]
     },
     "metadata": {},
     "output_type": "display_data"
    },
    {
     "data": {
      "text/plain": [
       "<Figure size 720x720 with 0 Axes>"
      ]
     },
     "metadata": {},
     "output_type": "display_data"
    },
    {
     "data": {
      "text/plain": [
       "<Figure size 720x720 with 0 Axes>"
      ]
     },
     "metadata": {},
     "output_type": "display_data"
    }
   ],
   "source": [
    "table = []\n",
    "for i in range(200):\n",
    "    env.seed(i)\n",
    "    env.reset()\n",
    "    for j in range(20):\n",
    "        ret = env.step(action=[0,0.00])\n",
    "        env.render()\n",
    "        ret[3][\"seed\"] = i\n",
    "        ret[3][\"done\"] = ret[2]\n",
    "        table.append(ret[3])\n",
    "        if ret[2]:\n",
    "            break\n",
    "        if env.env.env.leader_finished:\n",
    "            break\n",
    "    env.render()\n",
    "    plt.figure(figsize=(10,10))\n",
    "#     plt.imsave(\"/s/ls4/users/grartem/RL_robots/RL_robotSim/Notebooks/CorridorFixTest/{}.png\".format(i),\n",
    "#                pygame.surfarray.array3d(env.gameDisplay).transpose((1,0,2)))\n",
    "#     plt.imsave(\"/home/sheins/rl-test/RL_robotSim/Notebooks/CorridorFixTest/{}.png\".format(i),\n",
    "#                pygame.surfarray.array3d(env.gameDisplay).transpose((1,0,2)))\n",
    "    \n",
    "    plt.imsave(\"/s/ls4/users/grartem/RL_robots/RL_robotSim/Notebooks/v29_2/{}.png\".format(i),\n",
    "               pygame.surfarray.array3d(env.gameDisplay).transpose((1,0,2)))"
   ]
  },
  {
   "cell_type": "code",
   "execution_count": 26,
   "metadata": {},
   "outputs": [
    {
     "name": "stdout",
     "output_type": "stream",
     "text": [
      "Index(['mission_status', 'agent_status', 'leader_status', 'seed', 'done'], dtype='object')\n"
     ]
    },
    {
     "data": {
      "text/html": [
       "<div>\n",
       "<style scoped>\n",
       "    .dataframe tbody tr th:only-of-type {\n",
       "        vertical-align: middle;\n",
       "    }\n",
       "\n",
       "    .dataframe tbody tr th {\n",
       "        vertical-align: top;\n",
       "    }\n",
       "\n",
       "    .dataframe thead th {\n",
       "        text-align: right;\n",
       "    }\n",
       "</style>\n",
       "<table border=\"1\" class=\"dataframe\">\n",
       "  <thead>\n",
       "    <tr style=\"text-align: right;\">\n",
       "      <th></th>\n",
       "      <th>mission_status</th>\n",
       "      <th>agent_status</th>\n",
       "      <th>leader_status</th>\n",
       "      <th>seed</th>\n",
       "      <th>done</th>\n",
       "    </tr>\n",
       "  </thead>\n",
       "  <tbody>\n",
       "    <tr>\n",
       "      <th>1</th>\n",
       "      <td>fail</td>\n",
       "      <td>crash</td>\n",
       "      <td>moving</td>\n",
       "      <td>0</td>\n",
       "      <td>True</td>\n",
       "    </tr>\n",
       "    <tr>\n",
       "      <th>2703</th>\n",
       "      <td>fail</td>\n",
       "      <td>crash</td>\n",
       "      <td>moving</td>\n",
       "      <td>136</td>\n",
       "      <td>True</td>\n",
       "    </tr>\n",
       "  </tbody>\n",
       "</table>\n",
       "</div>"
      ],
      "text/plain": [
       "     mission_status agent_status leader_status  seed  done\n",
       "1              fail        crash        moving     0  True\n",
       "2703           fail        crash        moving   136  True"
      ]
     },
     "execution_count": 26,
     "metadata": {},
     "output_type": "execute_result"
    }
   ],
   "source": [
    "import pandas as pd\n",
    "df = pd.DataFrame(table)\n",
    "print(df.columns)\n",
    "df[df[\"done\"]]"
   ]
  },
  {
   "cell_type": "code",
   "execution_count": 34,
   "metadata": {},
   "outputs": [
    {
     "name": "stdout",
     "output_type": "stream",
     "text": [
      "===Запуск симуляции номер 279===\n",
      "1.0 False {'mission_status': 'in_progress', 'agent_status': 'moving', 'leader_status': 'moving', 'seed': 199, 'done': False}\n",
      "1.0 False {'mission_status': 'in_progress', 'agent_status': 'moving', 'leader_status': 'moving', 'seed': 199, 'done': False}\n"
     ]
    },
    {
     "data": {
      "text/plain": [
       "<Figure size 720x720 with 0 Axes>"
      ]
     },
     "metadata": {},
     "output_type": "display_data"
    }
   ],
   "source": [
    "env.seed(10)\n",
    "env.reset()\n",
    "for j in range(2):\n",
    "    ret = env.step(action=[1,0.00])\n",
    "    env.render()\n",
    "    ret[3][\"seed\"] = i\n",
    "    ret[3][\"done\"] = ret[2]\n",
    "    print(ret[1], ret[2],ret[3])\n",
    "    if ret[2]:\n",
    "        break\n",
    "    if env.env.env.leader_finished:\n",
    "        break\n",
    "env.render()\n",
    "plt.figure(figsize=(10,10))\n",
    "#     plt.imsave(\"/s/ls4/users/grartem/RL_robots/RL_robotSim/Notebooks/CorridorFixTest/{}.png\".format(i),\n",
    "#                pygame.surfarray.array3d(env.gameDisplay).transpose((1,0,2)))\n",
    "#     plt.imsave(\"/home/sheins/rl-test/RL_robotSim/Notebooks/CorridorFixTest/{}.png\".format(i),\n",
    "#                pygame.surfarray.array3d(env.gameDisplay).transpose((1,0,2)))\n",
    "\n",
    "plt.imsave(\"/s/ls4/users/grartem/RL_robots/RL_robotSim/Notebooks/v29_2/{}_2.png\".format(10),\n",
    "           pygame.surfarray.array3d(env.gameDisplay).transpose((1,0,2)))"
   ]
  },
  {
   "cell_type": "code",
   "execution_count": 6,
   "metadata": {},
   "outputs": [
    {
     "data": {
      "text/plain": [
       "106"
      ]
     },
     "execution_count": 6,
     "metadata": {},
     "output_type": "execute_result"
    }
   ],
   "source": [
    "len([7, 10, 12, 13, 16, 18, 20, 22, 25, 30, 33, 35, 36, 38, 40, 43, 44, 46, 47, 48, 49, \n",
    "50, 53, 55, 57, 59, 60, 65, 68, 73, 75, 76, 77, 78, 80, 82, 83, 86, 88, 89, 90, 93, 95, 96, 97, 98, 99, \n",
    "100, 101, 102, 105, 113, 116, 117, 118, 120, 121, 122, 123, 125, 126, 127, 128, 129, 130, 132,134, 135,\n",
    "138, 142, 144, 145, 146, 147, 149, 152, 153, 154, 155, 157, 160, 161, 162, 163, 166, 168,\n",
    "170, 172, 174,175,176,177, 179, 180, 181, 183, 185, 188, 190, 192, 193, 194, 196, 197, 198, 199])"
   ]
  },
  {
   "cell_type": "code",
   "execution_count": 9,
   "metadata": {},
   "outputs": [
    {
     "data": {
      "text/plain": [
       "src.continuous_grid_arctic.follow_the_leader_continuous_env.TestGameAuto"
      ]
     },
     "execution_count": 9,
     "metadata": {},
     "output_type": "execute_result"
    }
   ],
   "source": [
    "type(env.env.env.env)"
   ]
  },
  {
   "cell_type": "code",
   "execution_count": 7,
   "metadata": {},
   "outputs": [
    {
     "data": {
      "text/plain": [
       "<matplotlib.image.AxesImage at 0x2b3f79da0c70>"
      ]
     },
     "execution_count": 7,
     "metadata": {},
     "output_type": "execute_result"
    },
    {
     "data": {
      "image/png": "[encoded data removed]",
      "text/plain": [
       "<Figure size 720x720 with 1 Axes>"
      ]
     },
     "metadata": {
      "needs_background": "light"
     },
     "output_type": "display_data"
    }
   ],
   "source": [
    "plt.figure(figsize=(10,10))\n",
    "plt.imshow(pygame.surfarray.array3d(env.gameDisplay).transpose((1,0,2)))"
   ]
  },
  {
   "cell_type": "code",
   "execution_count": 13,
   "metadata": {},
   "outputs": [
    {
     "data": {
      "text/plain": [
       "100"
      ]
     },
     "execution_count": 13,
     "metadata": {},
     "output_type": "execute_result"
    }
   ],
   "source": [
    "# хорошие примеры для текущей версии (после добавления трёх точек и исправления регистрации столкновений с учетом расширения хитбокса при повороте)\n",
    "# env v7\n",
    "seeds_list = [1, 4, 5, 7 ,9, 10, 11, 14, 16, 17, 21, 24, 28, 29, 30, 32, 36, 38, 40, 43, 44, 45, 46, 49,\n",
    "             53, 58, 59, 60, 62, 63, 64, 65, 66, 70, 72, 73, 76, 82, 84, 85, 87, 88, 89, 90, 91, 92, 94, 95, 96, 97, 98, 99, 100,\n",
    "             103, 105, 107, 108, 109, 116,117, 119, 121,124, 127, 129, 131, 132, 138, 139, 140, 141, 146, 149, 150,\n",
    "             152, 153, 154, 155, 156, 159, 160, 161, 166, 170, 172, 173, 174, 175, 176, 177, 179, 181, 182, 183, 185, 186,\n",
    "             187, 189, 192, 194, 195, 196, 197, 198, 199]\n",
    "# хорошие примеры для текущей версии (после добавления трёх точек и исправления регистрации столкновений с учетом расширения хитбокса при повороте)\n",
    "# env v4\n",
    "seeds_list = [7,12,13,14,16,17,18,20,27,30,32,35,47,48,49,50,\n",
    "              52,58,64,65,73,74,75,76,77,78,80,81,82,85,86,88,90,93,94,95,96,97,98,99,\n",
    "             101,103,104,105,109,112,113,115,116,117,118,119,120,121,122,123,125,126,127,128,129,130,131,132,135,138,141,143,144,145,147,149,150,\n",
    "             152,153,154,155,157,159,160,161,162,163,166,168,170,172,175,176,179,182,183,188,192,194,195,196,197,198,199]\n",
    "len(seeds_list)\n"
   ]
  }
 ],
 "metadata": {
  "kernelspec": {
   "display_name": "rl_robots",
   "language": "python",
   "name": "rl_robots"
  },
  "language_info": {
   "codemirror_mode": {
    "name": "ipython",
    "version": 3
   },
   "file_extension": ".py",
   "mimetype": "text/x-python",
   "name": "python",
   "nbconvert_exporter": "python",
   "pygments_lexer": "ipython3",
   "version": "3.8.0"
  }
 },
 "nbformat": 4,
 "nbformat_minor": 4
}
