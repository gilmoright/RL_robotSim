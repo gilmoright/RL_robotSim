{
 "cells": [
  {
   "cell_type": "code",
   "execution_count": 1,
   "metadata": {
    "pycharm": {
     "is_executing": true
    }
   },
   "outputs": [],
   "source": [
    "import sys\n",
    "# sys.path.append(\"/s/ls4/users/grartem/RL_robots/\")\n",
    "# sys.path.append(\"/s/ls4/users/grartem/RL_robots/RL_robotSim/\")\n",
    "\n",
    "# sys.path.append(\"/home/sheins/rl-test/\")\n",
    "# sys.path.append(\"/home/sheins/rl-test/RL_robotSim\")\n",
    "\n",
    "sys.path.append(\"/s/ls4/users/slava1195/rl_rob/\")\n",
    "sys.path.append(\"/s/ls4/users/slava1195/rl_rob/RL_robotSim/\")\n",
    "\n",
    "from IPython.display import clear_output"
   ]
  },
  {
   "cell_type": "code",
   "execution_count": 2,
   "metadata": {},
   "outputs": [
    {
     "name": "stdout",
     "output_type": "stream",
     "text": [
      "pygame 2.1.2 (SDL 2.0.16, Python 3.8.12)\n",
      "Hello from the pygame community. https://www.pygame.org/contribute.html\n"
     ]
    }
   ],
   "source": [
    "import gym\n",
    "import numpy as np\n",
    "import MyMisc\n",
    "import pygame\n",
    "import matplotlib.pyplot as plt\n",
    "%matplotlib inline\n"
   ]
  },
  {
   "cell_type": "code",
   "execution_count": 3,
   "metadata": {},
   "outputs": [],
   "source": [
    "import os\n",
    "os.environ[\"SDL_VIDEODRIVER\"] = \"dummy\""
   ]
  },
  {
   "cell_type": "code",
   "execution_count": 4,
   "metadata": {},
   "outputs": [
    {
     "name": "stderr",
     "output_type": "stream",
     "text": [
      "/home/sheins/rl-test/continuous-grid-arctic/continuous_grid_arctic/follow_the_leader_continuous_env.py:283: UserWarning: Одновременно заданы и random_frames_per_step и frames_per_step, будет использоваться random_frames_per_step\n",
      "  warn(\n",
      "/home/sheins/anaconda3/envs/rl-ros/lib/python3.8/site-packages/gym/spaces/box.py:73: UserWarning: \u001B[33mWARN: Box bound precision lowered by casting to float32\u001B[0m\n",
      "  logger.warn(\n"
     ]
    }
   ],
   "source": [
    "env = MyMisc.continuous_env_maker(config={\"name\":\"Test-Cont-Env-Auto-v0\",\n",
    "                                          'wrappers': [ 'ContinuousObserveModifier_v0'], # 'MyFrameStack'\n",
    "                                          \"frames_per_step\":1,\n",
    "                                          \"base_env_config\": {\n",
    "                                              \"add_obstacles\":True,\n",
    "                                              \"add_bear\":True, # add new bear\n",
    "                                              \"game_width\":1500,\n",
    "                                              \"game_height\":1000,\n",
    "                                              \"max_steps\":20000,\n",
    "                                              \"framerate\":5000,\n",
    "                                              \"obstacle_number\":35,\n",
    "                                              \"constant_follower_speed\":False,\n",
    "                                              \"leader_speed_regime\":{\n",
    "                                                 0: [0.2, 1],\n",
    "                                                 200: 1,\n",
    "                                                 1000: [0.5, 1],\n",
    "                                                 1500: 0.75,\n",
    "                                                 2000: 0,\n",
    "                                                 2500: 1,\n",
    "                                                 3000: [0.5, 1],\n",
    "                                                 4000: [0.0, 0.5],\n",
    "                                                 5000: [0.4, 1],\n",
    "                                              },\n",
    "                                              \"multiple_end_points\":False,\n",
    "                                              \"warm_start\":0,\n",
    "                                              #\"early_stopping\":{\"max_distance_coef\": 1.4, \"low_reward\": -300},\n",
    "                                              \"random_frames_per_step\":[2, 20],\n",
    "                                              \"follower_sensors\":{\n",
    "                                                 'LeaderPositionsTracker': {\n",
    "                                                     'sensor_name': 'LeaderPositionsTracker',\n",
    "                                                     'eat_close_points': True,\n",
    "                                                     'saving_period': 8},\n",
    "                                                 'LeaderTrackDetector_vector': {\n",
    "                                                     'sensor_name': 'LeaderTrackDetector_vector',\n",
    "                                                     'position_sequence_length': 10},\n",
    "                                                 'LeaderTrackDetector_radar': {\n",
    "                                                     'sensor_name': 'LeaderTrackDetector_radar',\n",
    "                                                     'position_sequence_length': 100,\n",
    "                                                     'radar_sectors_number': 7,\n",
    "                                                     'detectable_positions': 'near'},\n",
    "                                                 \"LeaderCorridor_lasers\": {\n",
    "                                                     'sensor_name': 'LeaderCorridor_lasers',\n",
    "                                                     \"react_to_obstacles\": True,\n",
    "                                                 }\n",
    "                                             }\n",
    "                                         }})"
   ]
  },
  {
   "cell_type": "code",
   "execution_count": 36,
   "metadata": {},
   "outputs": [],
   "source": [
    "env = MyMisc.continuous_env_maker(config={\"name\":\"Test-Cont-Env-Auto-v0\",\n",
    "                                          'wrappers': [ 'ContinuousObserveModifier_v0'], # 'MyFrameStack'\n",
    "                                          \"frames_per_step\":1,\n",
    "                                          \"base_env_config\": {\n",
    "                                              \"add_obstacles\":True,\n",
    "                                              \"game_width\":1500,\n",
    "                                              \"game_height\":1000,\n",
    "                                              \"max_steps\":20000,\n",
    "                                              \"framerate\":5000,\n",
    "                                              \"obstacle_number\":35,\n",
    "                                              \"constant_follower_speed\":False,\n",
    "                                              \"multiple_end_points\":False,\n",
    "                                              \"warm_start\":0,\n",
    "                                              #\"early_stopping\":{\"max_distance_coef\": 1.4, \"low_reward\": -300},\n",
    "                                              \"random_frames_per_step\":[2, 20],\n",
    "                                              \"follower_sensors\":{\n",
    "                                                 'LeaderPositionsTracker': {\n",
    "                                                     'sensor_name': 'LeaderPositionsTracker',\n",
    "                                                     'eat_close_points': True,\n",
    "                                                     'saving_period': 8},\n",
    "                                                 \"LeaderCorridor_lasers_v2\": {\n",
    "                                                     'sensor_name': 'LeaderCorridor_lasers',\n",
    "                                                     \"react_to_obstacles\": False,\n",
    "                                                 }\n",
    "                                             }\n",
    "                                         }})"
   ]
  },
  {
   "cell_type": "code",
   "execution_count": 6,
   "metadata": {},
   "outputs": [],
   "source": [
    "# !mkdir /s/ls4/users/grartem/RL_robots/RL_robotSim/Notebooks/CorridorFixTest\n",
    "\n",
    "!mkdir /home/sheins/rl-test/RL_robotSim/Notebooks/CorridorFixTest_1"
   ]
  },
  {
   "cell_type": "code",
   "execution_count": null,
   "metadata": {},
   "outputs": [
    {
     "name": "stdout",
     "output_type": "stream",
     "text": [
      "===Запуск симуляции номер 43===\n"
     ]
    }
   ],
   "source": [
    "for i in range(200):\n",
    "    env.seed(i)\n",
    "    env.reset()\n",
    "    for j in range(10000):\n",
    "        ret = env.step(action=[-1.,0.00])\n",
    "        if ret[2]:\n",
    "            break\n",
    "        if env.env.env.leader_finished:\n",
    "            break\n",
    "    clear_output(wait=True)\n",
    "    env.render()\n",
    "    plt.figure(figsize=(10,10))\n",
    "#     plt.imsave(\"/s/ls4/users/grartem/RL_robots/RL_robotSim/Notebooks/CorridorFixTest/{}.png\".format(i),\n",
    "#                pygame.surfarray.array3d(env.gameDisplay).transpose((1,0,2)))\n",
    "#     plt.imsave(\"/home/sheins/rl-test/RL_robotSim/Notebooks/CorridorFixTest/{}.png\".format(i),\n",
    "#                pygame.surfarray.array3d(env.gameDisplay).transpose((1,0,2)))\n",
    "    \n",
    "    plt.imsave(\"/home/sheins/rl-test/RL_robotSim/Notebooks/CorridorFixTest/{}.png\".format(i),\n",
    "               pygame.surfarray.array3d(env.gameDisplay).transpose((1,0,2)))"
   ]
  },
  {
   "cell_type": "code",
   "execution_count": 7,
   "metadata": {},
   "outputs": [
    {
     "data": {
      "text/plain": [
       "<matplotlib.image.AxesImage at 0x2b3f79da0c70>"
      ]
     },
     "execution_count": 7,
     "metadata": {},
     "output_type": "execute_result"
    },
    {
     "data": {
      "image/png": "[encoded data removed]",
      "text/plain": [
       "<Figure size 720x720 with 1 Axes>"
      ]
     },
     "metadata": {
      "needs_background": "light"
     },
     "output_type": "display_data"
    }
   ],
   "source": [
    "plt.figure(figsize=(10,10))\n",
    "plt.imshow(pygame.surfarray.array3d(env.gameDisplay).transpose((1,0,2)))"
   ]
  },
  {
   "cell_type": "code",
   "execution_count": 13,
   "metadata": {},
   "outputs": [
    {
     "data": {
      "text/plain": [
       "100"
      ]
     },
     "execution_count": 13,
     "metadata": {},
     "output_type": "execute_result"
    }
   ],
   "source": [
    "# хорошие примеры для текущей версии (после добавления трёх точек и исправления регистрации столкновений с учетом расширения хитбокса при повороте)\n",
    "# env v7\n",
    "seeds_list = [1, 4, 5, 7 ,9, 10, 11, 14, 16, 17, 21, 24, 28, 29, 30, 32, 36, 38, 40, 43, 44, 45, 46, 49,\n",
    "             53, 58, 59, 60, 62, 63, 64, 65, 66, 70, 72, 73, 76, 82, 84, 85, 87, 88, 89, 90, 91, 92, 94, 95, 96, 97, 98, 99, 100,\n",
    "             103, 105, 107, 108, 109, 116,117, 119, 121,124, 127, 129, 131, 132, 138, 139, 140, 141, 146, 149, 150,\n",
    "             152, 153, 154, 155, 156, 159, 160, 161, 166, 170, 172, 173, 174, 175, 176, 177, 179, 181, 182, 183, 185, 186,\n",
    "             187, 189, 192, 194, 195, 196, 197, 198, 199]\n",
    "# хорошие примеры для текущей версии (после добавления трёх точек и исправления регистрации столкновений с учетом расширения хитбокса при повороте)\n",
    "# env v4\n",
    "seeds_list = [7,12,13,14,16,17,18,20,27,30,32,35,47,48,49,50,\n",
    "              52,58,64,65,73,74,75,76,77,78,80,81,82,85,86,88,90,93,94,95,96,97,98,99,\n",
    "             101,103,104,105,109,112,113,115,116,117,118,119,120,121,122,123,125,126,127,128,129,130,131,132,135,138,141,143,144,145,147,149,150,\n",
    "             152,153,154,155,157,159,160,161,162,163,166,168,170,172,175,176,179,182,183,188,192,194,195,196,197,198,199]\n",
    "len(seeds_list)\n"
   ]
  }
 ],
 "metadata": {
  "kernelspec": {
   "display_name": "Python 3 (ipykernel)",
   "language": "python",
   "name": "python3"
  },
  "language_info": {
   "codemirror_mode": {
    "name": "ipython",
    "version": 3
   },
   "file_extension": ".py",
   "mimetype": "text/x-python",
   "name": "python",
   "nbconvert_exporter": "python",
   "pygments_lexer": "ipython3",
   "version": "3.8.12"
  }
 },
 "nbformat": 4,
 "nbformat_minor": 4
}
