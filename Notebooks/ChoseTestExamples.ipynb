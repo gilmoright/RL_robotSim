{
 "cells": [
  {
   "cell_type": "code",
   "execution_count": 1,
   "metadata": {},
   "outputs": [],
   "source": [
    "import sys\n",
    "sys.path.append(\"/s/ls4/users/grartem/RL_robots/\")\n",
    "sys.path.append(\"/s/ls4/users/grartem/RL_robots/RL_robotSim/\")\n",
    "from IPython.display import clear_output"
   ]
  },
  {
   "cell_type": "code",
   "execution_count": 2,
   "metadata": {},
   "outputs": [
    {
     "name": "stdout",
     "output_type": "stream",
     "text": [
      "pygame 2.1.2 (SDL 2.0.16, Python 3.8.0)\n",
      "Hello from the pygame community. https://www.pygame.org/contribute.html\n"
     ]
    },
    {
     "name": "stderr",
     "output_type": "stream",
     "text": [
      "/s/ls4/users/grartem/anaconda3/envs/rl_robots/lib/python3.8/site-packages/tqdm/auto.py:22: TqdmWarning: IProgress not found. Please update jupyter and ipywidgets. See https://ipywidgets.readthedocs.io/en/stable/user_install.html\n",
      "  from .autonotebook import tqdm as notebook_tqdm\n",
      "Couldn't import `requests` library. Be sure to install it on the client side.\n",
      "Traceback (most recent call last):\n",
      "  File \"/s/ls4/users/grartem/anaconda3/envs/rl_robots/lib/python3.8/site-packages/ray/tune/web_server.py\", line 16, in <module>\n",
      "    import requests  # `requests` is not part of stdlib.\n",
      "  File \"/s/ls4/users/grartem/.local/lib/python3.8/site-packages/requests/__init__.py\", line 43, in <module>\n",
      "    import urllib3\n",
      "ModuleNotFoundError: No module named 'urllib3'\n",
      "Couldn't import `requests` library. Be sure to install it on the client side.\n"
     ]
    }
   ],
   "source": [
    "import gym\n",
    "import numpy as np\n",
    "import MyMisc\n",
    "import pygame\n",
    "import matplotlib.pyplot as plt\n",
    "%matplotlib inline\n"
   ]
  },
  {
   "cell_type": "code",
   "execution_count": 3,
   "metadata": {},
   "outputs": [],
   "source": [
    "import os\n",
    "os.environ[\"SDL_VIDEODRIVER\"] = \"dummy\""
   ]
  },
  {
   "cell_type": "code",
   "execution_count": 4,
   "metadata": {},
   "outputs": [
    {
     "name": "stderr",
     "output_type": "stream",
     "text": [
      "/s/ls4/users/grartem/RL_robots/continuous_grid_arctic/continuous_grid_arctic/follow_the_leader_continuous_env.py:279: UserWarning: Одновременно заданы и random_frames_per_step и frames_per_step, будет использоваться random_frames_per_step\n",
      "  warn(\n",
      "/s/ls4/users/grartem/anaconda3/envs/rl_robots/lib/python3.8/site-packages/gym/spaces/box.py:73: UserWarning: \u001b[33mWARN: Box bound precision lowered by casting to float32\u001b[0m\n",
      "  logger.warn(\n"
     ]
    }
   ],
   "source": [
    "env = MyMisc.continuous_env_maker(config={\"name\":\"Test-Cont-Env-Auto-v0\",\n",
    "                                          'wrappers': [ 'ContinuousObserveModifier_v0'], # 'MyFrameStack'\n",
    "                                          \"frames_per_step\":1,\n",
    "                                          \"base_env_config\": {\n",
    "                                              \"add_obstacles\":True,\n",
    "                                              \"game_width\":1500,\n",
    "                                              \"game_height\":1000,\n",
    "                                              \"max_steps\":20000,\n",
    "                                              \"framerate\":5000,\n",
    "                                              \"obstacle_number\":35,\n",
    "                                              \"constant_follower_speed\":False,\n",
    "                                              \"leader_speed_regime\":{\n",
    "                                                 0: [0.2, 1],\n",
    "                                                 200: 1,\n",
    "                                                 1000: [0.5, 1],\n",
    "                                                 1500: 0.75,\n",
    "                                                 2000: 0,\n",
    "                                                 2500: 1,\n",
    "                                                 3000: [0.5, 1],\n",
    "                                                 4000: [0.0, 0.5],\n",
    "                                                 5000: [0.4, 1],\n",
    "                                              },\n",
    "                                              \"multiple_end_points\":True,\n",
    "                                              \"warm_start\":0,\n",
    "                                              #\"early_stopping\":{\"max_distance_coef\": 1.4, \"low_reward\": -300},\n",
    "                                              \"random_frames_per_step\":[2, 20],\n",
    "                                              \"follower_sensors\":{\n",
    "                                                 'LeaderPositionsTracker': {\n",
    "                                                     'sensor_name': 'LeaderPositionsTracker',\n",
    "                                                     'eat_close_points': True,\n",
    "                                                     'saving_period': 8},\n",
    "                                                 'LeaderTrackDetector_vector': {\n",
    "                                                     'sensor_name': 'LeaderTrackDetector_vector',\n",
    "                                                     'position_sequence_length': 10},\n",
    "                                                 'LeaderTrackDetector_radar': {\n",
    "                                                     'sensor_name': 'LeaderTrackDetector_radar',\n",
    "                                                     'position_sequence_length': 100,\n",
    "                                                     'radar_sectors_number': 7,\n",
    "                                                     'detectable_positions': 'near'},\n",
    "                                                 \"LeaderCorridor_lasers\": {\n",
    "                                                     'sensor_name': 'LeaderCorridor_lasers',\n",
    "                                                     \"react_to_obstacles\": True,\n",
    "                                                 }\n",
    "                                             }\n",
    "                                         }})"
   ]
  },
  {
   "cell_type": "code",
   "execution_count": null,
   "metadata": {},
   "outputs": [
    {
     "name": "stdout",
     "output_type": "stream",
     "text": [
      "===Запуск симуляции номер 118===\n",
      "[(270, 820), (280, 810), (290, 810), (300, 810), (310, 810), (320, 810), (330, 810), (340, 810), (350, 810), (360, 800), (370, 790), (380, 780), (390, 770), (400, 760), (410, 760), (420, 760), (430, 760), (440, 750), (450, 740), (460, 730), (470, 720), (480, 710), (490, 700), (500, 690), (510, 680), (520, 670), (530, 660), (540, 650), (550, 640), (560, 630), (570, 620), (580, 610), (590, 600), (600, 590), (610, 580), (620, 570), (630, 570), (640, 560), (650, 550), (650, 540), (650, 530), (650, 520), (660, 510), (670, 500), (680, 490), (690, 490), (700, 490), (710, 490), (720, 490), (730, 490), (740, 490), (750, 490), (760, 490), (770, 490), (780, 490), (790, 480), (800, 470), (810, 460), (820, 450), (830, 440), (840, 430), (850, 420), (860, 410), (870, 400), (880, 390), (890, 380), (900, 380), (910, 370), (920, 360), (930, 350), (940, 340), (950, 330), (960, 320), (970, 310), (980, 300), (990, 290), (1000, 280), (1010, 270), (1020, 260), (1030, 250), (1040, 240), (1050, 230), (1060, 220), (1070, 210), (1080, 200), (1090, 190), (1100, 180), (1110, 170), (1120, 160), (1130, 150), (1140, 140), (1150, 140), (1160, 140), (1170, 140), (1180, 140), (1190, 140), (1200, 140), (1210, 140), (1220, 140), (1230, 140), (1240, 140), (1250, 140), (1260, 140), (1270, 140), (1280, 140), (1290, 140), (1300, 140), (1310, 140), (1320, 140), (1330, 150), (1340, 160), (1350, 160), (1360, 170), (1370, 180), (1380, 180), (1390, 180), (1400, 180)]\n",
      "[(1410, 190), (1400, 180), (1390, 170), (1380, 160), (1370, 150), (1360, 140), (1350, 140), (1340, 140), (1330, 140), (1320, 140), (1310, 140), (1300, 140), (1290, 140), (1280, 140), (1270, 140), (1260, 140), (1250, 140), (1240, 140), (1230, 140), (1220, 150), (1210, 160), (1200, 170), (1190, 180), (1180, 190), (1170, 200), (1160, 210), (1150, 220), (1140, 230), (1130, 240), (1120, 250), (1110, 260), (1100, 270), (1090, 280), (1080, 290), (1070, 300), (1060, 310), (1050, 320), (1040, 330), (1030, 340), (1020, 350), (1010, 360), (1000, 370), (990, 380), (980, 390), (970, 400), (960, 410), (950, 420), (940, 430), (930, 440), (920, 450), (910, 460), (900, 470), (890, 480), (880, 490), (870, 500), (860, 510), (850, 510), (840, 510), (830, 510), (820, 510), (810, 510), (800, 510), (790, 510), (780, 510), (770, 510), (760, 510), (750, 510), (740, 510), (730, 510), (720, 510), (710, 510), (700, 510), (690, 510), (680, 510), (670, 510), (660, 510), (650, 520), (640, 530), (640, 540), (640, 550), (640, 560), (630, 570), (620, 580), (610, 580), (600, 580), (590, 580), (580, 580), (570, 580), (560, 580), (550, 580), (540, 580), (530, 580), (520, 580), (510, 580), (500, 580), (490, 580), (480, 580), (470, 580), (460, 580), (450, 580), (440, 580), (430, 580)]\n"
     ]
    },
    {
     "name": "stderr",
     "output_type": "stream",
     "text": [
      "Failed to create secure directory (/run/user/1556/pulse): No such file or directory\n",
      "ALSA lib confmisc.c:767:(parse_card) cannot find card '0'\n",
      "ALSA lib conf.c:4568:(_snd_config_evaluate) function snd_func_card_driver returned error: No such file or directory\n",
      "ALSA lib confmisc.c:392:(snd_func_concat) error evaluating strings\n",
      "ALSA lib conf.c:4568:(_snd_config_evaluate) function snd_func_concat returned error: No such file or directory\n",
      "ALSA lib confmisc.c:1246:(snd_func_refer) error evaluating name\n",
      "ALSA lib conf.c:4568:(_snd_config_evaluate) function snd_func_refer returned error: No such file or directory\n",
      "ALSA lib conf.c:5047:(snd_config_expand) Evaluate error: No such file or directory\n",
      "ALSA lib pcm.c:2565:(snd_pcm_open_noupdate) Unknown PCM default\n"
     ]
    }
   ],
   "source": [
    "for i in range(200):\n",
    "    env.seed(i)\n",
    "    env.reset()\n",
    "    for j in range(10000):\n",
    "        ret = env.step(action=[-1.,0.00])\n",
    "        if ret[2]:\n",
    "            break\n",
    "        if env.env.env.leader_finished:\n",
    "            break\n",
    "    clear_output(wait=True)\n",
    "    env.render()\n",
    "    plt.figure(figsize=(10,10))\n",
    "    plt.imsave(\"/s/ls4/users/grartem/RL_robots/RL_robotSim/Notebooks/SeedPictures_dstar_3/{}.png\".format(i),\n",
    "               pygame.surfarray.array3d(env.gameDisplay).transpose((1,0,2)))"
   ]
  },
  {
   "cell_type": "code",
   "execution_count": null,
   "metadata": {},
   "outputs": [],
   "source": []
  }
 ],
 "metadata": {
  "kernelspec": {
   "display_name": "rl_robots",
   "language": "python",
   "name": "rl_robots"
  },
  "language_info": {
   "codemirror_mode": {
    "name": "ipython",
    "version": 3
   },
   "file_extension": ".py",
   "mimetype": "text/x-python",
   "name": "python",
   "nbconvert_exporter": "python",
   "pygments_lexer": "ipython3",
   "version": "3.8.0"
  }
 },
 "nbformat": 4,
 "nbformat_minor": 4
}
