{
 "cells": [
  {
   "cell_type": "code",
   "execution_count": 1,
   "metadata": {},
   "outputs": [],
   "source": [
    "import sys\n",
    "sys.path.append(\"/s/ls4/users/grartem/RL_robots/continuous-grid-arctic/\")\n",
    "sys.path.append(\"/s/ls4/users/grartem/RL_robots/RL_robotSim/\")\n",
    "import os\n",
    "os.environ[\"SDL_VIDEODRIVER\"] = \"dummy\""
   ]
  },
  {
   "cell_type": "code",
   "execution_count": 2,
   "metadata": {},
   "outputs": [],
   "source": [
    "os.chdir(\"/s/ls4/users/grartem/RL_robots/RL_robotSim/\")"
   ]
  },
  {
   "cell_type": "code",
   "execution_count": 3,
   "metadata": {},
   "outputs": [
    {
     "name": "stdout",
     "output_type": "stream",
     "text": [
      "pygame 2.1.2 (SDL 2.0.16, Python 3.8.0)\n",
      "Hello from the pygame community. https://www.pygame.org/contribute.html\n"
     ]
    }
   ],
   "source": [
    "import time\n",
    "import gym\n",
    "import pyhocon\n",
    "import numpy as np\n",
    "import ray\n",
    "from ray.rllib.agents.ppo.ppo import PPOTrainer\n",
    "from ray.rllib.agents.ddpg.td3 import TD3Trainer\n",
    "\n",
    "import MyMisc\n"
   ]
  },
  {
   "cell_type": "code",
   "execution_count": 4,
   "metadata": {},
   "outputs": [],
   "source": [
    "configs = pyhocon.ConfigFactory.parse_file(\"/s/ls4/users/grartem/RL_robots/RL_robotSim/Configs/FollowerContinuous/TD3_obst.conf\")\n",
    "CONFIG = configs[\"td3_explv5\"].as_plain_ordered_dict()\n",
    "CONFIG[\"config\"][\"num_workers\"]=0"
   ]
  },
  {
   "cell_type": "code",
   "execution_count": 5,
   "metadata": {
    "scrolled": true
   },
   "outputs": [],
   "source": [
    "#checkpoint_path = \"/s/ls4/users/grartem/RL_robots/RL_robotSim/results/FollowerContinuous/obst/TD3/explore/td3_explv5/TD3_continuous-grid_bef3b_00001_1_2022-03-14_18-59-52/checkpoint_000320/checkpoint-320\"\n",
    "#table_save_path = \"/s/ls4/users/grartem/RL_robots/RL_robotSim/results/FollowerContinuous/obst/TD3/explore/td3_explv5/TD3_continuous-grid_bef3b_00001_1_2022-03-14_18-59-52/checkpoint-320_test.csv\"\n",
    "checkpoint_path = \"/s/ls4/users/grartem/RL_robots/RL_robotSim/results/FollowerContinuous/obst/TD3/explore/td3_explv5/TD3_continuous-grid_bef3b_00001_1_2022-03-14_18-59-52/checkpoint_000710/checkpoint-710\"\n",
    "table_save_path = \"/s/ls4/users/grartem/RL_robots/RL_robotSim/results/FollowerContinuous/obst/TD3/explore/td3_explv5/TD3_continuous-grid_bef3b_00001_1_2022-03-14_18-59-52/checkpoint-710_test.csv\""
   ]
  },
  {
   "cell_type": "code",
   "execution_count": 6,
   "metadata": {},
   "outputs": [
    {
     "name": "stderr",
     "output_type": "stream",
     "text": [
      "2022-03-18 02:08:15,204\tWARNING deprecation.py:45 -- DeprecationWarning: `config['buffer_size']` has been deprecated. Use `config['replay_buffer_config']['capacity']` instead. This will raise an error in the future!\n",
      "/s/ls4/users/grartem/anaconda3/envs/rl_robots/lib/python3.8/site-packages/gym/spaces/box.py:73: UserWarning: \u001b[33mWARN: Box bound precision lowered by casting to float32\u001b[0m\n",
      "  logger.warn(\n",
      "Failed to create secure directory (/run/user/1556/pulse): No such file or directory\n",
      "ALSA lib confmisc.c:767:(parse_card) cannot find card '0'\n",
      "ALSA lib conf.c:4568:(_snd_config_evaluate) function snd_func_card_driver returned error: No such file or directory\n",
      "ALSA lib confmisc.c:392:(snd_func_concat) error evaluating strings\n",
      "ALSA lib conf.c:4568:(_snd_config_evaluate) function snd_func_concat returned error: No such file or directory\n",
      "ALSA lib confmisc.c:1246:(snd_func_refer) error evaluating name\n",
      "ALSA lib conf.c:4568:(_snd_config_evaluate) function snd_func_refer returned error: No such file or directory\n",
      "ALSA lib conf.c:5047:(snd_config_expand) Evaluate error: No such file or directory\n",
      "ALSA lib pcm.c:2565:(snd_pcm_open_noupdate) Unknown PCM default\n"
     ]
    },
    {
     "name": "stdout",
     "output_type": "stream",
     "text": [
      "===Запуск симуляции номер 0===\n"
     ]
    },
    {
     "name": "stderr",
     "output_type": "stream",
     "text": [
      "2022-03-18 02:08:21,486\tWARNING deprecation.py:45 -- DeprecationWarning: `convert_to_non_torch_type` has been deprecated. Use `ray/rllib/utils/numpy.py::convert_to_numpy` instead. This will raise an error in the future!\n",
      "Install gputil for GPU system monitoring.\n",
      "2022-03-18 02:08:28,022\tINFO trainable.py:467 -- Restored on 172.19.12.129 from checkpoint: /s/ls4/users/grartem/RL_robots/RL_robotSim/results/FollowerContinuous/obst/TD3/explore/td3_explv5/TD3_continuous-grid_bef3b_00001_1_2022-03-14_18-59-52/checkpoint_000710/checkpoint-710\n",
      "2022-03-18 02:08:28,023\tINFO trainable.py:475 -- Current state after restoring: {'_iteration': 710, '_timesteps_total': 0, '_time_total': 78126.00439810753, '_episodes_total': 4969}\n"
     ]
    }
   ],
   "source": [
    "#trainer = ray.rllib.agents.registry.get_trainer_class(\"TD3\")(CONFIG[\"config\"])\n",
    "trainer = TD3Trainer(CONFIG[\"config\"])\n",
    "trainer.restore(checkpoint_path)"
   ]
  },
  {
   "cell_type": "code",
   "execution_count": 7,
   "metadata": {},
   "outputs": [],
   "source": [
    "env = MyMisc.continuous_env_maker(config=CONFIG[\"config\"][\"env_config\"])"
   ]
  },
  {
   "cell_type": "code",
   "execution_count": null,
   "metadata": {},
   "outputs": [
    {
     "name": "stdout",
     "output_type": "stream",
     "text": [
      "0\n",
      "===Запуск симуляции номер 0===\n"
     ]
    },
    {
     "name": "stderr",
     "output_type": "stream",
     "text": [
      "Failed to create secure directory (/run/user/1556/pulse): No such file or directory\n",
      "ALSA lib confmisc.c:767:(parse_card) cannot find card '0'\n",
      "ALSA lib conf.c:4568:(_snd_config_evaluate) function snd_func_card_driver returned error: No such file or directory\n",
      "ALSA lib confmisc.c:392:(snd_func_concat) error evaluating strings\n",
      "ALSA lib conf.c:4568:(_snd_config_evaluate) function snd_func_concat returned error: No such file or directory\n",
      "ALSA lib confmisc.c:1246:(snd_func_refer) error evaluating name\n",
      "ALSA lib conf.c:4568:(_snd_config_evaluate) function snd_func_refer returned error: No such file or directory\n",
      "ALSA lib conf.c:5047:(snd_config_expand) Evaluate error: No such file or directory\n",
      "ALSA lib pcm.c:2565:(snd_pcm_open_noupdate) Unknown PCM default\n"
     ]
    },
    {
     "name": "stdout",
     "output_type": "stream",
     "text": [
      "00:00:56\n",
      "1\n",
      "===Запуск симуляции номер 1===\n"
     ]
    },
    {
     "name": "stderr",
     "output_type": "stream",
     "text": [
      "Failed to create secure directory (/run/user/1556/pulse): No such file or directory\n",
      "ALSA lib confmisc.c:767:(parse_card) cannot find card '0'\n",
      "ALSA lib conf.c:4568:(_snd_config_evaluate) function snd_func_card_driver returned error: No such file or directory\n",
      "ALSA lib confmisc.c:392:(snd_func_concat) error evaluating strings\n",
      "ALSA lib conf.c:4568:(_snd_config_evaluate) function snd_func_concat returned error: No such file or directory\n",
      "ALSA lib confmisc.c:1246:(snd_func_refer) error evaluating name\n",
      "ALSA lib conf.c:4568:(_snd_config_evaluate) function snd_func_refer returned error: No such file or directory\n",
      "ALSA lib conf.c:5047:(snd_config_expand) Evaluate error: No such file or directory\n",
      "ALSA lib pcm.c:2565:(snd_pcm_open_noupdate) Unknown PCM default\n"
     ]
    },
    {
     "name": "stdout",
     "output_type": "stream",
     "text": [
      "00:00:59\n",
      "2\n",
      "===Запуск симуляции номер 2===\n"
     ]
    },
    {
     "name": "stderr",
     "output_type": "stream",
     "text": [
      "/s/ls4/users/grartem/RL_robots/continuous-grid-arctic/utils/astar.py:95: UserWarning: giving up on pathfinding too many iterations\n",
      "  warn(\"giving up on pathfinding too many iterations\")\n",
      "Failed to create secure directory (/run/user/1556/pulse): No such file or directory\n",
      "ALSA lib confmisc.c:767:(parse_card) cannot find card '0'\n",
      "ALSA lib conf.c:4568:(_snd_config_evaluate) function snd_func_card_driver returned error: No such file or directory\n",
      "ALSA lib confmisc.c:392:(snd_func_concat) error evaluating strings\n",
      "ALSA lib conf.c:4568:(_snd_config_evaluate) function snd_func_concat returned error: No such file or directory\n",
      "ALSA lib confmisc.c:1246:(snd_func_refer) error evaluating name\n",
      "ALSA lib conf.c:4568:(_snd_config_evaluate) function snd_func_refer returned error: No such file or directory\n",
      "ALSA lib conf.c:5047:(snd_config_expand) Evaluate error: No such file or directory\n",
      "ALSA lib pcm.c:2565:(snd_pcm_open_noupdate) Unknown PCM default\n"
     ]
    },
    {
     "name": "stdout",
     "output_type": "stream",
     "text": [
      "АВАРИЯ! -10.0\n",
      "АВАРИЯ! -10.0\n",
      "АВАРИЯ! -10.0\n",
      "00:00:57\n",
      "3\n",
      "===Запуск симуляции номер 3===\n"
     ]
    },
    {
     "name": "stderr",
     "output_type": "stream",
     "text": [
      "Failed to create secure directory (/run/user/1556/pulse): No such file or directory\n",
      "ALSA lib confmisc.c:767:(parse_card) cannot find card '0'\n",
      "ALSA lib conf.c:4568:(_snd_config_evaluate) function snd_func_card_driver returned error: No such file or directory\n",
      "ALSA lib confmisc.c:392:(snd_func_concat) error evaluating strings\n",
      "ALSA lib conf.c:4568:(_snd_config_evaluate) function snd_func_concat returned error: No such file or directory\n",
      "ALSA lib confmisc.c:1246:(snd_func_refer) error evaluating name\n",
      "ALSA lib conf.c:4568:(_snd_config_evaluate) function snd_func_refer returned error: No such file or directory\n",
      "ALSA lib conf.c:5047:(snd_config_expand) Evaluate error: No such file or directory\n",
      "ALSA lib pcm.c:2565:(snd_pcm_open_noupdate) Unknown PCM default\n"
     ]
    },
    {
     "name": "stdout",
     "output_type": "stream",
     "text": [
      "00:01:11\n",
      "4\n",
      "===Запуск симуляции номер 4===\n"
     ]
    },
    {
     "name": "stderr",
     "output_type": "stream",
     "text": [
      "Failed to create secure directory (/run/user/1556/pulse): No such file or directory\n",
      "ALSA lib confmisc.c:767:(parse_card) cannot find card '0'\n",
      "ALSA lib conf.c:4568:(_snd_config_evaluate) function snd_func_card_driver returned error: No such file or directory\n",
      "ALSA lib confmisc.c:392:(snd_func_concat) error evaluating strings\n",
      "ALSA lib conf.c:4568:(_snd_config_evaluate) function snd_func_concat returned error: No such file or directory\n",
      "ALSA lib confmisc.c:1246:(snd_func_refer) error evaluating name\n",
      "ALSA lib conf.c:4568:(_snd_config_evaluate) function snd_func_refer returned error: No such file or directory\n",
      "ALSA lib conf.c:5047:(snd_config_expand) Evaluate error: No such file or directory\n",
      "ALSA lib pcm.c:2565:(snd_pcm_open_noupdate) Unknown PCM default\n"
     ]
    },
    {
     "name": "stdout",
     "output_type": "stream",
     "text": [
      "00:00:35\n",
      "5\n",
      "===Запуск симуляции номер 5===\n"
     ]
    },
    {
     "name": "stderr",
     "output_type": "stream",
     "text": [
      "Failed to create secure directory (/run/user/1556/pulse): No such file or directory\n",
      "ALSA lib confmisc.c:767:(parse_card) cannot find card '0'\n",
      "ALSA lib conf.c:4568:(_snd_config_evaluate) function snd_func_card_driver returned error: No such file or directory\n",
      "ALSA lib confmisc.c:392:(snd_func_concat) error evaluating strings\n",
      "ALSA lib conf.c:4568:(_snd_config_evaluate) function snd_func_concat returned error: No such file or directory\n",
      "ALSA lib confmisc.c:1246:(snd_func_refer) error evaluating name\n",
      "ALSA lib conf.c:4568:(_snd_config_evaluate) function snd_func_refer returned error: No such file or directory\n",
      "ALSA lib conf.c:5047:(snd_config_expand) Evaluate error: No such file or directory\n",
      "ALSA lib pcm.c:2565:(snd_pcm_open_noupdate) Unknown PCM default\n",
      "/s/ls4/users/grartem/RL_robots/continuous-grid-arctic/utils/misc.py:63: RuntimeWarning: invalid value encountered in arccos\n",
      "  return np.arccos(v.dot(w) / (np.linalg.norm(v, axis=1) * np.linalg.norm(w)))\n"
     ]
    },
    {
     "name": "stdout",
     "output_type": "stream",
     "text": [
      "00:01:02\n",
      "6\n",
      "===Запуск симуляции номер 6===\n"
     ]
    },
    {
     "name": "stderr",
     "output_type": "stream",
     "text": [
      "Failed to create secure directory (/run/user/1556/pulse): No such file or directory\n",
      "ALSA lib confmisc.c:767:(parse_card) cannot find card '0'\n",
      "ALSA lib conf.c:4568:(_snd_config_evaluate) function snd_func_card_driver returned error: No such file or directory\n",
      "ALSA lib confmisc.c:392:(snd_func_concat) error evaluating strings\n",
      "ALSA lib conf.c:4568:(_snd_config_evaluate) function snd_func_concat returned error: No such file or directory\n",
      "ALSA lib confmisc.c:1246:(snd_func_refer) error evaluating name\n",
      "ALSA lib conf.c:4568:(_snd_config_evaluate) function snd_func_refer returned error: No such file or directory\n",
      "ALSA lib conf.c:5047:(snd_config_expand) Evaluate error: No such file or directory\n",
      "ALSA lib pcm.c:2565:(snd_pcm_open_noupdate) Unknown PCM default\n"
     ]
    },
    {
     "name": "stdout",
     "output_type": "stream",
     "text": [
      "00:01:08\n",
      "7\n",
      "===Запуск симуляции номер 7===\n"
     ]
    },
    {
     "name": "stderr",
     "output_type": "stream",
     "text": [
      "Failed to create secure directory (/run/user/1556/pulse): No such file or directory\n",
      "ALSA lib confmisc.c:767:(parse_card) cannot find card '0'\n",
      "ALSA lib conf.c:4568:(_snd_config_evaluate) function snd_func_card_driver returned error: No such file or directory\n",
      "ALSA lib confmisc.c:392:(snd_func_concat) error evaluating strings\n",
      "ALSA lib conf.c:4568:(_snd_config_evaluate) function snd_func_concat returned error: No such file or directory\n",
      "ALSA lib confmisc.c:1246:(snd_func_refer) error evaluating name\n",
      "ALSA lib conf.c:4568:(_snd_config_evaluate) function snd_func_refer returned error: No such file or directory\n",
      "ALSA lib conf.c:5047:(snd_config_expand) Evaluate error: No such file or directory\n",
      "ALSA lib pcm.c:2565:(snd_pcm_open_noupdate) Unknown PCM default\n"
     ]
    },
    {
     "name": "stdout",
     "output_type": "stream",
     "text": [
      "00:01:08\n",
      "8\n",
      "===Запуск симуляции номер 8===\n"
     ]
    },
    {
     "name": "stderr",
     "output_type": "stream",
     "text": [
      "Failed to create secure directory (/run/user/1556/pulse): No such file or directory\n",
      "ALSA lib confmisc.c:767:(parse_card) cannot find card '0'\n",
      "ALSA lib conf.c:4568:(_snd_config_evaluate) function snd_func_card_driver returned error: No such file or directory\n",
      "ALSA lib confmisc.c:392:(snd_func_concat) error evaluating strings\n",
      "ALSA lib conf.c:4568:(_snd_config_evaluate) function snd_func_concat returned error: No such file or directory\n",
      "ALSA lib confmisc.c:1246:(snd_func_refer) error evaluating name\n",
      "ALSA lib conf.c:4568:(_snd_config_evaluate) function snd_func_refer returned error: No such file or directory\n",
      "ALSA lib conf.c:5047:(snd_config_expand) Evaluate error: No such file or directory\n",
      "ALSA lib pcm.c:2565:(snd_pcm_open_noupdate) Unknown PCM default\n"
     ]
    },
    {
     "name": "stdout",
     "output_type": "stream",
     "text": [
      "00:01:02\n",
      "9\n",
      "===Запуск симуляции номер 9===\n"
     ]
    },
    {
     "name": "stderr",
     "output_type": "stream",
     "text": [
      "Failed to create secure directory (/run/user/1556/pulse): No such file or directory\n",
      "ALSA lib confmisc.c:767:(parse_card) cannot find card '0'\n",
      "ALSA lib conf.c:4568:(_snd_config_evaluate) function snd_func_card_driver returned error: No such file or directory\n",
      "ALSA lib confmisc.c:392:(snd_func_concat) error evaluating strings\n",
      "ALSA lib conf.c:4568:(_snd_config_evaluate) function snd_func_concat returned error: No such file or directory\n",
      "ALSA lib confmisc.c:1246:(snd_func_refer) error evaluating name\n",
      "ALSA lib conf.c:4568:(_snd_config_evaluate) function snd_func_refer returned error: No such file or directory\n",
      "ALSA lib conf.c:5047:(snd_config_expand) Evaluate error: No such file or directory\n",
      "ALSA lib pcm.c:2565:(snd_pcm_open_noupdate) Unknown PCM default\n"
     ]
    },
    {
     "name": "stdout",
     "output_type": "stream",
     "text": [
      "АВАРИЯ! -10.0\n",
      "АВАРИЯ! -10.0\n",
      "00:00:52\n",
      "10\n",
      "===Запуск симуляции номер 10===\n"
     ]
    },
    {
     "name": "stderr",
     "output_type": "stream",
     "text": [
      "Failed to create secure directory (/run/user/1556/pulse): No such file or directory\n",
      "ALSA lib confmisc.c:767:(parse_card) cannot find card '0'\n",
      "ALSA lib conf.c:4568:(_snd_config_evaluate) function snd_func_card_driver returned error: No such file or directory\n",
      "ALSA lib confmisc.c:392:(snd_func_concat) error evaluating strings\n",
      "ALSA lib conf.c:4568:(_snd_config_evaluate) function snd_func_concat returned error: No such file or directory\n",
      "ALSA lib confmisc.c:1246:(snd_func_refer) error evaluating name\n",
      "ALSA lib conf.c:4568:(_snd_config_evaluate) function snd_func_refer returned error: No such file or directory\n",
      "ALSA lib conf.c:5047:(snd_config_expand) Evaluate error: No such file or directory\n",
      "ALSA lib pcm.c:2565:(snd_pcm_open_noupdate) Unknown PCM default\n"
     ]
    },
    {
     "name": "stdout",
     "output_type": "stream",
     "text": [
      "00:01:09\n",
      "11\n",
      "===Запуск симуляции номер 11===\n"
     ]
    },
    {
     "name": "stderr",
     "output_type": "stream",
     "text": [
      "Failed to create secure directory (/run/user/1556/pulse): No such file or directory\n",
      "ALSA lib confmisc.c:767:(parse_card) cannot find card '0'\n",
      "ALSA lib conf.c:4568:(_snd_config_evaluate) function snd_func_card_driver returned error: No such file or directory\n",
      "ALSA lib confmisc.c:392:(snd_func_concat) error evaluating strings\n",
      "ALSA lib conf.c:4568:(_snd_config_evaluate) function snd_func_concat returned error: No such file or directory\n",
      "ALSA lib confmisc.c:1246:(snd_func_refer) error evaluating name\n",
      "ALSA lib conf.c:4568:(_snd_config_evaluate) function snd_func_refer returned error: No such file or directory\n",
      "ALSA lib conf.c:5047:(snd_config_expand) Evaluate error: No such file or directory\n",
      "ALSA lib pcm.c:2565:(snd_pcm_open_noupdate) Unknown PCM default\n"
     ]
    },
    {
     "name": "stdout",
     "output_type": "stream",
     "text": [
      "00:00:52\n",
      "12\n",
      "===Запуск симуляции номер 12===\n"
     ]
    },
    {
     "name": "stderr",
     "output_type": "stream",
     "text": [
      "Failed to create secure directory (/run/user/1556/pulse): No such file or directory\n",
      "ALSA lib confmisc.c:767:(parse_card) cannot find card '0'\n",
      "ALSA lib conf.c:4568:(_snd_config_evaluate) function snd_func_card_driver returned error: No such file or directory\n",
      "ALSA lib confmisc.c:392:(snd_func_concat) error evaluating strings\n",
      "ALSA lib conf.c:4568:(_snd_config_evaluate) function snd_func_concat returned error: No such file or directory\n",
      "ALSA lib confmisc.c:1246:(snd_func_refer) error evaluating name\n",
      "ALSA lib conf.c:4568:(_snd_config_evaluate) function snd_func_refer returned error: No such file or directory\n",
      "ALSA lib conf.c:5047:(snd_config_expand) Evaluate error: No such file or directory\n",
      "ALSA lib pcm.c:2565:(snd_pcm_open_noupdate) Unknown PCM default\n"
     ]
    },
    {
     "name": "stdout",
     "output_type": "stream",
     "text": [
      "00:01:00\n",
      "13\n",
      "===Запуск симуляции номер 13===\n"
     ]
    },
    {
     "name": "stderr",
     "output_type": "stream",
     "text": [
      "Failed to create secure directory (/run/user/1556/pulse): No such file or directory\n",
      "ALSA lib confmisc.c:767:(parse_card) cannot find card '0'\n",
      "ALSA lib conf.c:4568:(_snd_config_evaluate) function snd_func_card_driver returned error: No such file or directory\n",
      "ALSA lib confmisc.c:392:(snd_func_concat) error evaluating strings\n",
      "ALSA lib conf.c:4568:(_snd_config_evaluate) function snd_func_concat returned error: No such file or directory\n",
      "ALSA lib confmisc.c:1246:(snd_func_refer) error evaluating name\n",
      "ALSA lib conf.c:4568:(_snd_config_evaluate) function snd_func_refer returned error: No such file or directory\n",
      "ALSA lib conf.c:5047:(snd_config_expand) Evaluate error: No such file or directory\n",
      "ALSA lib pcm.c:2565:(snd_pcm_open_noupdate) Unknown PCM default\n"
     ]
    },
    {
     "name": "stdout",
     "output_type": "stream",
     "text": [
      "00:00:45\n",
      "14\n",
      "===Запуск симуляции номер 14===\n"
     ]
    },
    {
     "name": "stderr",
     "output_type": "stream",
     "text": [
      "Failed to create secure directory (/run/user/1556/pulse): No such file or directory\n",
      "ALSA lib confmisc.c:767:(parse_card) cannot find card '0'\n",
      "ALSA lib conf.c:4568:(_snd_config_evaluate) function snd_func_card_driver returned error: No such file or directory\n",
      "ALSA lib confmisc.c:392:(snd_func_concat) error evaluating strings\n",
      "ALSA lib conf.c:4568:(_snd_config_evaluate) function snd_func_concat returned error: No such file or directory\n",
      "ALSA lib confmisc.c:1246:(snd_func_refer) error evaluating name\n",
      "ALSA lib conf.c:4568:(_snd_config_evaluate) function snd_func_refer returned error: No such file or directory\n",
      "ALSA lib conf.c:5047:(snd_config_expand) Evaluate error: No such file or directory\n",
      "ALSA lib pcm.c:2565:(snd_pcm_open_noupdate) Unknown PCM default\n"
     ]
    },
    {
     "name": "stdout",
     "output_type": "stream",
     "text": [
      "00:00:44\n",
      "15\n",
      "===Запуск симуляции номер 15===\n"
     ]
    },
    {
     "name": "stderr",
     "output_type": "stream",
     "text": [
      "Failed to create secure directory (/run/user/1556/pulse): No such file or directory\n",
      "ALSA lib confmisc.c:767:(parse_card) cannot find card '0'\n",
      "ALSA lib conf.c:4568:(_snd_config_evaluate) function snd_func_card_driver returned error: No such file or directory\n",
      "ALSA lib confmisc.c:392:(snd_func_concat) error evaluating strings\n",
      "ALSA lib conf.c:4568:(_snd_config_evaluate) function snd_func_concat returned error: No such file or directory\n",
      "ALSA lib confmisc.c:1246:(snd_func_refer) error evaluating name\n",
      "ALSA lib conf.c:4568:(_snd_config_evaluate) function snd_func_refer returned error: No such file or directory\n",
      "ALSA lib conf.c:5047:(snd_config_expand) Evaluate error: No such file or directory\n",
      "ALSA lib pcm.c:2565:(snd_pcm_open_noupdate) Unknown PCM default\n"
     ]
    },
    {
     "name": "stdout",
     "output_type": "stream",
     "text": [
      "00:01:05\n",
      "16\n",
      "===Запуск симуляции номер 16===\n"
     ]
    },
    {
     "name": "stderr",
     "output_type": "stream",
     "text": [
      "Failed to create secure directory (/run/user/1556/pulse): No such file or directory\n",
      "ALSA lib confmisc.c:767:(parse_card) cannot find card '0'\n",
      "ALSA lib conf.c:4568:(_snd_config_evaluate) function snd_func_card_driver returned error: No such file or directory\n",
      "ALSA lib confmisc.c:392:(snd_func_concat) error evaluating strings\n",
      "ALSA lib conf.c:4568:(_snd_config_evaluate) function snd_func_concat returned error: No such file or directory\n",
      "ALSA lib confmisc.c:1246:(snd_func_refer) error evaluating name\n",
      "ALSA lib conf.c:4568:(_snd_config_evaluate) function snd_func_refer returned error: No such file or directory\n",
      "ALSA lib conf.c:5047:(snd_config_expand) Evaluate error: No such file or directory\n",
      "ALSA lib pcm.c:2565:(snd_pcm_open_noupdate) Unknown PCM default\n"
     ]
    },
    {
     "name": "stdout",
     "output_type": "stream",
     "text": [
      "00:00:56\n",
      "17\n",
      "===Запуск симуляции номер 17===\n"
     ]
    },
    {
     "name": "stderr",
     "output_type": "stream",
     "text": [
      "Failed to create secure directory (/run/user/1556/pulse): No such file or directory\n",
      "ALSA lib confmisc.c:767:(parse_card) cannot find card '0'\n",
      "ALSA lib conf.c:4568:(_snd_config_evaluate) function snd_func_card_driver returned error: No such file or directory\n",
      "ALSA lib confmisc.c:392:(snd_func_concat) error evaluating strings\n",
      "ALSA lib conf.c:4568:(_snd_config_evaluate) function snd_func_concat returned error: No such file or directory\n",
      "ALSA lib confmisc.c:1246:(snd_func_refer) error evaluating name\n",
      "ALSA lib conf.c:4568:(_snd_config_evaluate) function snd_func_refer returned error: No such file or directory\n",
      "ALSA lib conf.c:5047:(snd_config_expand) Evaluate error: No such file or directory\n",
      "ALSA lib pcm.c:2565:(snd_pcm_open_noupdate) Unknown PCM default\n"
     ]
    },
    {
     "name": "stdout",
     "output_type": "stream",
     "text": [
      "00:00:57\n",
      "18\n",
      "===Запуск симуляции номер 18===\n"
     ]
    },
    {
     "name": "stderr",
     "output_type": "stream",
     "text": [
      "Failed to create secure directory (/run/user/1556/pulse): No such file or directory\n",
      "ALSA lib confmisc.c:767:(parse_card) cannot find card '0'\n",
      "ALSA lib conf.c:4568:(_snd_config_evaluate) function snd_func_card_driver returned error: No such file or directory\n",
      "ALSA lib confmisc.c:392:(snd_func_concat) error evaluating strings\n",
      "ALSA lib conf.c:4568:(_snd_config_evaluate) function snd_func_concat returned error: No such file or directory\n",
      "ALSA lib confmisc.c:1246:(snd_func_refer) error evaluating name\n",
      "ALSA lib conf.c:4568:(_snd_config_evaluate) function snd_func_refer returned error: No such file or directory\n",
      "ALSA lib conf.c:5047:(snd_config_expand) Evaluate error: No such file or directory\n",
      "ALSA lib pcm.c:2565:(snd_pcm_open_noupdate) Unknown PCM default\n"
     ]
    },
    {
     "name": "stdout",
     "output_type": "stream",
     "text": [
      "00:00:49\n",
      "19\n",
      "===Запуск симуляции номер 19===\n"
     ]
    },
    {
     "name": "stderr",
     "output_type": "stream",
     "text": [
      "Failed to create secure directory (/run/user/1556/pulse): No such file or directory\n",
      "ALSA lib confmisc.c:767:(parse_card) cannot find card '0'\n",
      "ALSA lib conf.c:4568:(_snd_config_evaluate) function snd_func_card_driver returned error: No such file or directory\n",
      "ALSA lib confmisc.c:392:(snd_func_concat) error evaluating strings\n",
      "ALSA lib conf.c:4568:(_snd_config_evaluate) function snd_func_concat returned error: No such file or directory\n",
      "ALSA lib confmisc.c:1246:(snd_func_refer) error evaluating name\n",
      "ALSA lib conf.c:4568:(_snd_config_evaluate) function snd_func_refer returned error: No such file or directory\n",
      "ALSA lib conf.c:5047:(snd_config_expand) Evaluate error: No such file or directory\n",
      "ALSA lib pcm.c:2565:(snd_pcm_open_noupdate) Unknown PCM default\n"
     ]
    },
    {
     "name": "stdout",
     "output_type": "stream",
     "text": [
      "00:00:55\n",
      "20\n",
      "===Запуск симуляции номер 20===\n"
     ]
    },
    {
     "name": "stderr",
     "output_type": "stream",
     "text": [
      "Failed to create secure directory (/run/user/1556/pulse): No such file or directory\n",
      "ALSA lib confmisc.c:767:(parse_card) cannot find card '0'\n",
      "ALSA lib conf.c:4568:(_snd_config_evaluate) function snd_func_card_driver returned error: No such file or directory\n",
      "ALSA lib confmisc.c:392:(snd_func_concat) error evaluating strings\n",
      "ALSA lib conf.c:4568:(_snd_config_evaluate) function snd_func_concat returned error: No such file or directory\n",
      "ALSA lib confmisc.c:1246:(snd_func_refer) error evaluating name\n",
      "ALSA lib conf.c:4568:(_snd_config_evaluate) function snd_func_refer returned error: No such file or directory\n",
      "ALSA lib conf.c:5047:(snd_config_expand) Evaluate error: No such file or directory\n",
      "ALSA lib pcm.c:2565:(snd_pcm_open_noupdate) Unknown PCM default\n"
     ]
    },
    {
     "name": "stdout",
     "output_type": "stream",
     "text": [
      "00:01:01\n",
      "21\n",
      "===Запуск симуляции номер 21===\n"
     ]
    },
    {
     "name": "stderr",
     "output_type": "stream",
     "text": [
      "Failed to create secure directory (/run/user/1556/pulse): No such file or directory\n",
      "ALSA lib confmisc.c:767:(parse_card) cannot find card '0'\n",
      "ALSA lib conf.c:4568:(_snd_config_evaluate) function snd_func_card_driver returned error: No such file or directory\n",
      "ALSA lib confmisc.c:392:(snd_func_concat) error evaluating strings\n",
      "ALSA lib conf.c:4568:(_snd_config_evaluate) function snd_func_concat returned error: No such file or directory\n",
      "ALSA lib confmisc.c:1246:(snd_func_refer) error evaluating name\n",
      "ALSA lib conf.c:4568:(_snd_config_evaluate) function snd_func_refer returned error: No such file or directory\n",
      "ALSA lib conf.c:5047:(snd_config_expand) Evaluate error: No such file or directory\n",
      "ALSA lib pcm.c:2565:(snd_pcm_open_noupdate) Unknown PCM default\n"
     ]
    }
   ],
   "source": [
    "history = []\n",
    "for seed_i in range(100):\n",
    "    print(seed_i)\n",
    "    env.seed(seed_i)\n",
    "    obs = env.reset()\n",
    "    done = False\n",
    "    total_reward = 0.0\n",
    "    # Play one episode.\n",
    "    start_time = time.time()\n",
    "    while not done:\n",
    "        # Compute a single action, given the current observation\n",
    "        # from the environment.\n",
    "        action = trainer.compute_single_action(obs, explore=False)\n",
    "        # Apply the computed action in the environment.\n",
    "        obs, reward, done, info = env.step(action)\n",
    "        # Sum up rewards for reporting purposes.\n",
    "        total_reward += reward\n",
    "    elapsed_time = time.time() - start_time\n",
    "    elapsed_time = time.strftime(\"%H:%M:%S\", time.gmtime(elapsed_time))\n",
    "    print(elapsed_time)\n",
    "    history.append({\n",
    "        \"seed\": seed_i,\n",
    "        \"reward\": total_reward,\n",
    "        \"done\": done,\n",
    "        \"time\": elapsed_time\n",
    "    })\n",
    "    history[-1].update(info)\n",
    "    # Report results.\n",
    "pd.DataFrame(history).to_csv(table_save_path, index=False, sep=\";\", encoding=\"cp1251\")"
   ]
  },
  {
   "cell_type": "code",
   "execution_count": null,
   "metadata": {},
   "outputs": [],
   "source": []
  },
  {
   "cell_type": "code",
   "execution_count": null,
   "metadata": {},
   "outputs": [],
   "source": []
  }
 ],
 "metadata": {
  "kernelspec": {
   "display_name": "rl_robots",
   "language": "python",
   "name": "rl_robots"
  },
  "language_info": {
   "codemirror_mode": {
    "name": "ipython",
    "version": 3
   },
   "file_extension": ".py",
   "mimetype": "text/x-python",
   "name": "python",
   "nbconvert_exporter": "python",
   "pygments_lexer": "ipython3",
   "version": "3.8.0"
  }
 },
 "nbformat": 4,
 "nbformat_minor": 4
}
